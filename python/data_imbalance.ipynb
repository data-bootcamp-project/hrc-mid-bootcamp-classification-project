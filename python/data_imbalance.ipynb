{
 "cells": [
  {
   "cell_type": "code",
   "execution_count": 31,
   "id": "7b312cb8",
   "metadata": {},
   "outputs": [],
   "source": [
    "\n",
    "\n",
    "#data handling and trasformation\n",
    "import pandas as pd\n",
    "import numpy as np\n",
    "\n",
    "# data visualisation \n",
    "import seaborn as sns\n",
    "from matplotlib import pyplot as plt\n",
    "from sklearn.metrics import roc_curve\n",
    "\n",
    "\n",
    "# machine learning metrics and scoring\n",
    "from sklearn import metrics\n",
    "from sklearn.metrics import confusion_matrix\n",
    "from sklearn.metrics import cohen_kappa_score\n",
    "from sklearn.metrics import accuracy_score, precision_score, recall_score, f1_score, roc_auc_score\n",
    "\n",
    "# machine learning models \n",
    "from sklearn.linear_model import LogisticRegression\n",
    "from sklearn.preprocessing import StandardScaler\n",
    "from sklearn.model_selection import train_test_split\n",
    "\n",
    "import warnings\n",
    "\n",
    "warnings.filterwarnings('ignore')\n",
    "\n"
   ]
  },
  {
   "attachments": {},
   "cell_type": "markdown",
   "id": "0d1155f3",
   "metadata": {},
   "source": [
    "### Put presets in place"
   ]
  },
  {
   "attachments": {},
   "cell_type": "markdown",
   "id": "823d3bc3",
   "metadata": {},
   "source": [
    "#### Colorblind-friendly palette"
   ]
  },
  {
   "cell_type": "code",
   "execution_count": 3,
   "id": "b977769c",
   "metadata": {},
   "outputs": [],
   "source": [
    "# Create an array with the colors you want to use\n",
    "colors = [\"#FF0B04\", \"#4374B3\",\"#999999\", \"#E69F00\", \"#56B4E9\", \"#009E73\", \"#F0E442\", \"#0072B2\", \"#D55E00\", \"#CC79A7\"]\n",
    "# Set a custom color palette for colour blind readers\n",
    "\n",
    "# Assign a name to the palette\n",
    "colorblind1 = sns.set_palette(sns.color_palette(colors)) \n"
   ]
  },
  {
   "attachments": {},
   "cell_type": "markdown",
   "id": "38331648",
   "metadata": {},
   "source": [
    "### Import Data"
   ]
  },
  {
   "attachments": {},
   "cell_type": "markdown",
   "id": "486e1df4",
   "metadata": {},
   "source": [
    "During the EDA phase, we cleaned the data and separated the dataset into two separate dataframes:\n",
    "\n",
    "X = the independent variables\n",
    "\n",
    "y = the target variable\n"
   ]
  },
  {
   "cell_type": "code",
   "execution_count": 4,
   "id": "f09c08e9",
   "metadata": {},
   "outputs": [
    {
     "data": {
      "text/html": [
       "<div>\n",
       "<style scoped>\n",
       "    .dataframe tbody tr th:only-of-type {\n",
       "        vertical-align: middle;\n",
       "    }\n",
       "\n",
       "    .dataframe tbody tr th {\n",
       "        vertical-align: top;\n",
       "    }\n",
       "\n",
       "    .dataframe thead th {\n",
       "        text-align: right;\n",
       "    }\n",
       "</style>\n",
       "<table border=\"1\" class=\"dataframe\">\n",
       "  <thead>\n",
       "    <tr style=\"text-align: right;\">\n",
       "      <th></th>\n",
       "      <th>bank_accounts_open</th>\n",
       "      <th>credit_cards_held</th>\n",
       "      <th>homes_owned</th>\n",
       "      <th>household_size</th>\n",
       "      <th>average_balance</th>\n",
       "      <th>q1_balance</th>\n",
       "      <th>q2_balance</th>\n",
       "      <th>q3_balance</th>\n",
       "      <th>q4_balance</th>\n",
       "      <th>income_level</th>\n",
       "      <th>credit_rating</th>\n",
       "      <th>reward_Air Miles</th>\n",
       "      <th>reward_Cash Back</th>\n",
       "      <th>reward_Points</th>\n",
       "      <th>mailer_type_Letter</th>\n",
       "      <th>mailer_type_Postcard</th>\n",
       "      <th>overdraft_protection_No</th>\n",
       "      <th>overdraft_protection_Yes</th>\n",
       "      <th>own_your_home_No</th>\n",
       "      <th>own_your_home_Yes</th>\n",
       "    </tr>\n",
       "  </thead>\n",
       "  <tbody>\n",
       "    <tr>\n",
       "      <th>0</th>\n",
       "      <td>1</td>\n",
       "      <td>2</td>\n",
       "      <td>1</td>\n",
       "      <td>4</td>\n",
       "      <td>1160.75</td>\n",
       "      <td>1669.0</td>\n",
       "      <td>877.0</td>\n",
       "      <td>1095.0</td>\n",
       "      <td>1002.0</td>\n",
       "      <td>2</td>\n",
       "      <td>2</td>\n",
       "      <td>1</td>\n",
       "      <td>0</td>\n",
       "      <td>0</td>\n",
       "      <td>1</td>\n",
       "      <td>0</td>\n",
       "      <td>1</td>\n",
       "      <td>0</td>\n",
       "      <td>1</td>\n",
       "      <td>0</td>\n",
       "    </tr>\n",
       "    <tr>\n",
       "      <th>1</th>\n",
       "      <td>1</td>\n",
       "      <td>2</td>\n",
       "      <td>2</td>\n",
       "      <td>5</td>\n",
       "      <td>147.25</td>\n",
       "      <td>39.0</td>\n",
       "      <td>106.0</td>\n",
       "      <td>78.0</td>\n",
       "      <td>366.0</td>\n",
       "      <td>1</td>\n",
       "      <td>1</td>\n",
       "      <td>1</td>\n",
       "      <td>0</td>\n",
       "      <td>0</td>\n",
       "      <td>1</td>\n",
       "      <td>0</td>\n",
       "      <td>1</td>\n",
       "      <td>0</td>\n",
       "      <td>0</td>\n",
       "      <td>1</td>\n",
       "    </tr>\n",
       "    <tr>\n",
       "      <th>2</th>\n",
       "      <td>2</td>\n",
       "      <td>2</td>\n",
       "      <td>1</td>\n",
       "      <td>2</td>\n",
       "      <td>276.50</td>\n",
       "      <td>367.0</td>\n",
       "      <td>352.0</td>\n",
       "      <td>145.0</td>\n",
       "      <td>242.0</td>\n",
       "      <td>2</td>\n",
       "      <td>1</td>\n",
       "      <td>1</td>\n",
       "      <td>0</td>\n",
       "      <td>0</td>\n",
       "      <td>0</td>\n",
       "      <td>1</td>\n",
       "      <td>1</td>\n",
       "      <td>0</td>\n",
       "      <td>0</td>\n",
       "      <td>1</td>\n",
       "    </tr>\n",
       "    <tr>\n",
       "      <th>3</th>\n",
       "      <td>2</td>\n",
       "      <td>1</td>\n",
       "      <td>1</td>\n",
       "      <td>4</td>\n",
       "      <td>1219.00</td>\n",
       "      <td>1578.0</td>\n",
       "      <td>1760.0</td>\n",
       "      <td>1119.0</td>\n",
       "      <td>419.0</td>\n",
       "      <td>1</td>\n",
       "      <td>2</td>\n",
       "      <td>1</td>\n",
       "      <td>0</td>\n",
       "      <td>0</td>\n",
       "      <td>1</td>\n",
       "      <td>0</td>\n",
       "      <td>1</td>\n",
       "      <td>0</td>\n",
       "      <td>1</td>\n",
       "      <td>0</td>\n",
       "    </tr>\n",
       "    <tr>\n",
       "      <th>4</th>\n",
       "      <td>1</td>\n",
       "      <td>2</td>\n",
       "      <td>1</td>\n",
       "      <td>6</td>\n",
       "      <td>1211.00</td>\n",
       "      <td>2140.0</td>\n",
       "      <td>1357.0</td>\n",
       "      <td>982.0</td>\n",
       "      <td>365.0</td>\n",
       "      <td>1</td>\n",
       "      <td>1</td>\n",
       "      <td>1</td>\n",
       "      <td>0</td>\n",
       "      <td>0</td>\n",
       "      <td>1</td>\n",
       "      <td>0</td>\n",
       "      <td>1</td>\n",
       "      <td>0</td>\n",
       "      <td>0</td>\n",
       "      <td>1</td>\n",
       "    </tr>\n",
       "  </tbody>\n",
       "</table>\n",
       "</div>"
      ],
      "text/plain": [
       "   bank_accounts_open  credit_cards_held  homes_owned  household_size  \\\n",
       "0                   1                  2            1               4   \n",
       "1                   1                  2            2               5   \n",
       "2                   2                  2            1               2   \n",
       "3                   2                  1            1               4   \n",
       "4                   1                  2            1               6   \n",
       "\n",
       "   average_balance  q1_balance  q2_balance  q3_balance  q4_balance  \\\n",
       "0          1160.75      1669.0       877.0      1095.0      1002.0   \n",
       "1           147.25        39.0       106.0        78.0       366.0   \n",
       "2           276.50       367.0       352.0       145.0       242.0   \n",
       "3          1219.00      1578.0      1760.0      1119.0       419.0   \n",
       "4          1211.00      2140.0      1357.0       982.0       365.0   \n",
       "\n",
       "   income_level  credit_rating  reward_Air Miles  reward_Cash Back  \\\n",
       "0             2              2                 1                 0   \n",
       "1             1              1                 1                 0   \n",
       "2             2              1                 1                 0   \n",
       "3             1              2                 1                 0   \n",
       "4             1              1                 1                 0   \n",
       "\n",
       "   reward_Points  mailer_type_Letter  mailer_type_Postcard  \\\n",
       "0              0                   1                     0   \n",
       "1              0                   1                     0   \n",
       "2              0                   0                     1   \n",
       "3              0                   1                     0   \n",
       "4              0                   1                     0   \n",
       "\n",
       "   overdraft_protection_No  overdraft_protection_Yes  own_your_home_No  \\\n",
       "0                        1                         0                 1   \n",
       "1                        1                         0                 0   \n",
       "2                        1                         0                 0   \n",
       "3                        1                         0                 1   \n",
       "4                        1                         0                 0   \n",
       "\n",
       "   own_your_home_Yes  \n",
       "0                  0  \n",
       "1                  1  \n",
       "2                  1  \n",
       "3                  0  \n",
       "4                  1  "
      ]
     },
     "execution_count": 4,
     "metadata": {},
     "output_type": "execute_result"
    }
   ],
   "source": [
    "X = pd.read_csv(r'./../data/X.csv') # import the csv file using a relative path to the 'data' folder\n",
    "\n",
    "#X= X.drop(columns=['Unnamed: 0']) # drop index column\n",
    "\n",
    "X.head()"
   ]
  },
  {
   "cell_type": "code",
   "execution_count": 37,
   "id": "0e7530a1",
   "metadata": {},
   "outputs": [
    {
     "data": {
      "text/html": [
       "<div>\n",
       "<style scoped>\n",
       "    .dataframe tbody tr th:only-of-type {\n",
       "        vertical-align: middle;\n",
       "    }\n",
       "\n",
       "    .dataframe tbody tr th {\n",
       "        vertical-align: top;\n",
       "    }\n",
       "\n",
       "    .dataframe thead th {\n",
       "        text-align: right;\n",
       "    }\n",
       "</style>\n",
       "<table border=\"1\" class=\"dataframe\">\n",
       "  <thead>\n",
       "    <tr style=\"text-align: right;\">\n",
       "      <th></th>\n",
       "      <th>offer_accepted</th>\n",
       "    </tr>\n",
       "  </thead>\n",
       "  <tbody>\n",
       "    <tr>\n",
       "      <th>0</th>\n",
       "      <td>No</td>\n",
       "    </tr>\n",
       "    <tr>\n",
       "      <th>1</th>\n",
       "      <td>No</td>\n",
       "    </tr>\n",
       "    <tr>\n",
       "      <th>2</th>\n",
       "      <td>No</td>\n",
       "    </tr>\n",
       "    <tr>\n",
       "      <th>3</th>\n",
       "      <td>No</td>\n",
       "    </tr>\n",
       "    <tr>\n",
       "      <th>4</th>\n",
       "      <td>No</td>\n",
       "    </tr>\n",
       "  </tbody>\n",
       "</table>\n",
       "</div>"
      ],
      "text/plain": [
       "  offer_accepted\n",
       "0             No\n",
       "1             No\n",
       "2             No\n",
       "3             No\n",
       "4             No"
      ]
     },
     "execution_count": 37,
     "metadata": {},
     "output_type": "execute_result"
    }
   ],
   "source": [
    "y = pd.read_csv(r'./../data/y.csv') # import the csv file using a relative path to the 'data' folder\n",
    "#y= y.drop(columns=['Unnamed: 0']) # drop index column\n",
    "\n",
    "y.head()"
   ]
  },
  {
   "cell_type": "code",
   "execution_count": 7,
   "id": "2d68f0bd",
   "metadata": {},
   "outputs": [
    {
     "data": {
      "text/html": [
       "<div>\n",
       "<style scoped>\n",
       "    .dataframe tbody tr th:only-of-type {\n",
       "        vertical-align: middle;\n",
       "    }\n",
       "\n",
       "    .dataframe tbody tr th {\n",
       "        vertical-align: top;\n",
       "    }\n",
       "\n",
       "    .dataframe thead th {\n",
       "        text-align: right;\n",
       "    }\n",
       "</style>\n",
       "<table border=\"1\" class=\"dataframe\">\n",
       "  <thead>\n",
       "    <tr style=\"text-align: right;\">\n",
       "      <th></th>\n",
       "      <th>offer_accepted</th>\n",
       "    </tr>\n",
       "  </thead>\n",
       "  <tbody>\n",
       "    <tr>\n",
       "      <th>0</th>\n",
       "      <td>No</td>\n",
       "    </tr>\n",
       "    <tr>\n",
       "      <th>1</th>\n",
       "      <td>No</td>\n",
       "    </tr>\n",
       "    <tr>\n",
       "      <th>2</th>\n",
       "      <td>No</td>\n",
       "    </tr>\n",
       "    <tr>\n",
       "      <th>3</th>\n",
       "      <td>No</td>\n",
       "    </tr>\n",
       "    <tr>\n",
       "      <th>4</th>\n",
       "      <td>No</td>\n",
       "    </tr>\n",
       "  </tbody>\n",
       "</table>\n",
       "</div>"
      ],
      "text/plain": [
       "  offer_accepted\n",
       "0             No\n",
       "1             No\n",
       "2             No\n",
       "3             No\n",
       "4             No"
      ]
     },
     "execution_count": 7,
     "metadata": {},
     "output_type": "execute_result"
    }
   ],
   "source": [
    "y_cats = y.copy() # make a separate df to preserve the categorical variables\n",
    "y_cats.head()"
   ]
  },
  {
   "attachments": {},
   "cell_type": "markdown",
   "id": "ce9e8d70",
   "metadata": {},
   "source": [
    "### Examine the class label imbalance"
   ]
  },
  {
   "cell_type": "code",
   "execution_count": 9,
   "id": "253238c3",
   "metadata": {},
   "outputs": [
    {
     "data": {
      "text/html": [
       "<div>\n",
       "<style scoped>\n",
       "    .dataframe tbody tr th:only-of-type {\n",
       "        vertical-align: middle;\n",
       "    }\n",
       "\n",
       "    .dataframe tbody tr th {\n",
       "        vertical-align: top;\n",
       "    }\n",
       "\n",
       "    .dataframe thead th {\n",
       "        text-align: right;\n",
       "    }\n",
       "</style>\n",
       "<table border=\"1\" class=\"dataframe\">\n",
       "  <thead>\n",
       "    <tr style=\"text-align: right;\">\n",
       "      <th></th>\n",
       "      <th>n</th>\n",
       "      <th>%</th>\n",
       "    </tr>\n",
       "  </thead>\n",
       "  <tbody>\n",
       "    <tr>\n",
       "      <th>No</th>\n",
       "      <td>16955</td>\n",
       "      <td>0.943202</td>\n",
       "    </tr>\n",
       "    <tr>\n",
       "      <th>Yes</th>\n",
       "      <td>1021</td>\n",
       "      <td>0.056798</td>\n",
       "    </tr>\n",
       "  </tbody>\n",
       "</table>\n",
       "</div>"
      ],
      "text/plain": [
       "         n         %\n",
       "No   16955  0.943202\n",
       "Yes   1021  0.056798"
      ]
     },
     "execution_count": 9,
     "metadata": {},
     "output_type": "execute_result"
    }
   ],
   "source": [
    "## Count instances of the target variable \n",
    "#count frequencies\n",
    "counts = y['offer_accepted'].value_counts()\n",
    "##count and compute as percentage of total \n",
    "pct = y['offer_accepted'].value_counts(normalize=True)\n",
    "\n",
    "#concatenate results into one DataFrame\n",
    "pd.concat([counts,pct], axis=1, keys=['n', '%'])"
   ]
  },
  {
   "attachments": {},
   "cell_type": "markdown",
   "id": "d14789c2",
   "metadata": {},
   "source": [
    "Convert the 'Yes' and 'no' values to '1' and '0'"
   ]
  },
  {
   "cell_type": "code",
   "execution_count": 38,
   "id": "6be72150",
   "metadata": {},
   "outputs": [],
   "source": [
    "y['offer_accepted'] = y['offer_accepted'].replace({'No': 0, 'Yes': 1})"
   ]
  },
  {
   "cell_type": "code",
   "execution_count": 11,
   "id": "7331f129",
   "metadata": {},
   "outputs": [
    {
     "name": "stdout",
     "output_type": "stream",
     "text": [
      "Examples:\n",
      "    Total: 17976\n",
      "    Customers who accepted credit card offer: 1021 (5.68% of total customer base)\n",
      "\n"
     ]
    }
   ],
   "source": [
    "neg, pos = np.bincount(y['offer_accepted'])\n",
    "total = neg + pos\n",
    "\n",
    "print('Examples:\\n    Total: {}\\n    Customers who accepted credit card offer: {} ({:.2f}% of total customer base)\\n'.format(\n",
    "    total, pos, 100 * pos / total))"
   ]
  },
  {
   "attachments": {},
   "cell_type": "markdown",
   "id": "a4881f46",
   "metadata": {},
   "source": [
    "Before applying our machine learning model to improve the balance between 'Yes' and 'No', we need to scale the numerical variables. \n",
    "\n",
    "We'll be using standard scaler to remove the mean and unit variance."
   ]
  },
  {
   "cell_type": "code",
   "execution_count": 12,
   "id": "82fc3b1c",
   "metadata": {},
   "outputs": [
    {
     "data": {
      "text/html": [
       "<div>\n",
       "<style scoped>\n",
       "    .dataframe tbody tr th:only-of-type {\n",
       "        vertical-align: middle;\n",
       "    }\n",
       "\n",
       "    .dataframe tbody tr th {\n",
       "        vertical-align: top;\n",
       "    }\n",
       "\n",
       "    .dataframe thead th {\n",
       "        text-align: right;\n",
       "    }\n",
       "</style>\n",
       "<table border=\"1\" class=\"dataframe\">\n",
       "  <thead>\n",
       "    <tr style=\"text-align: right;\">\n",
       "      <th></th>\n",
       "      <th>bank_accounts_open</th>\n",
       "      <th>credit_cards_held</th>\n",
       "      <th>homes_owned</th>\n",
       "      <th>household_size</th>\n",
       "      <th>average_balance</th>\n",
       "      <th>q1_balance</th>\n",
       "      <th>q2_balance</th>\n",
       "      <th>q3_balance</th>\n",
       "      <th>q4_balance</th>\n",
       "      <th>income_level</th>\n",
       "      <th>credit_rating</th>\n",
       "      <th>reward_Air Miles</th>\n",
       "      <th>reward_Cash Back</th>\n",
       "      <th>reward_Points</th>\n",
       "      <th>mailer_type_Letter</th>\n",
       "      <th>mailer_type_Postcard</th>\n",
       "      <th>overdraft_protection_No</th>\n",
       "      <th>overdraft_protection_Yes</th>\n",
       "      <th>own_your_home_No</th>\n",
       "      <th>own_your_home_Yes</th>\n",
       "    </tr>\n",
       "  </thead>\n",
       "  <tbody>\n",
       "    <tr>\n",
       "      <th>0</th>\n",
       "      <td>-0.541352</td>\n",
       "      <td>0.121161</td>\n",
       "      <td>-0.476212</td>\n",
       "      <td>0.449452</td>\n",
       "      <td>0.628724</td>\n",
       "      <td>1.223349</td>\n",
       "      <td>-0.267589</td>\n",
       "      <td>0.095704</td>\n",
       "      <td>0.343147</td>\n",
       "      <td>1.410295</td>\n",
       "      <td>1.215460</td>\n",
       "      <td>1.404533</td>\n",
       "      <td>-0.707372</td>\n",
       "      <td>-0.70198</td>\n",
       "      <td>1.016378</td>\n",
       "      <td>-1.016378</td>\n",
       "      <td>0.418213</td>\n",
       "      <td>-0.418213</td>\n",
       "      <td>1.354744</td>\n",
       "      <td>-1.354744</td>\n",
       "    </tr>\n",
       "    <tr>\n",
       "      <th>1</th>\n",
       "      <td>-0.541352</td>\n",
       "      <td>0.121161</td>\n",
       "      <td>1.863330</td>\n",
       "      <td>1.346760</td>\n",
       "      <td>-2.264609</td>\n",
       "      <td>-1.405430</td>\n",
       "      <td>-1.953241</td>\n",
       "      <td>-1.741902</td>\n",
       "      <td>-0.794628</td>\n",
       "      <td>-0.005039</td>\n",
       "      <td>-0.007894</td>\n",
       "      <td>1.404533</td>\n",
       "      <td>-0.707372</td>\n",
       "      <td>-0.70198</td>\n",
       "      <td>1.016378</td>\n",
       "      <td>-1.016378</td>\n",
       "      <td>0.418213</td>\n",
       "      <td>-0.418213</td>\n",
       "      <td>-0.738147</td>\n",
       "      <td>0.738147</td>\n",
       "    </tr>\n",
       "    <tr>\n",
       "      <th>2</th>\n",
       "      <td>1.575537</td>\n",
       "      <td>0.121161</td>\n",
       "      <td>-0.476212</td>\n",
       "      <td>-1.345162</td>\n",
       "      <td>-1.895627</td>\n",
       "      <td>-0.876449</td>\n",
       "      <td>-1.415407</td>\n",
       "      <td>-1.620841</td>\n",
       "      <td>-1.016458</td>\n",
       "      <td>1.410295</td>\n",
       "      <td>-0.007894</td>\n",
       "      <td>1.404533</td>\n",
       "      <td>-0.707372</td>\n",
       "      <td>-0.70198</td>\n",
       "      <td>-0.983886</td>\n",
       "      <td>0.983886</td>\n",
       "      <td>0.418213</td>\n",
       "      <td>-0.418213</td>\n",
       "      <td>-0.738147</td>\n",
       "      <td>0.738147</td>\n",
       "    </tr>\n",
       "    <tr>\n",
       "      <th>3</th>\n",
       "      <td>1.575537</td>\n",
       "      <td>-1.133443</td>\n",
       "      <td>-0.476212</td>\n",
       "      <td>0.449452</td>\n",
       "      <td>0.795015</td>\n",
       "      <td>1.076589</td>\n",
       "      <td>1.662932</td>\n",
       "      <td>0.139070</td>\n",
       "      <td>-0.699813</td>\n",
       "      <td>-0.005039</td>\n",
       "      <td>1.215460</td>\n",
       "      <td>1.404533</td>\n",
       "      <td>-0.707372</td>\n",
       "      <td>-0.70198</td>\n",
       "      <td>1.016378</td>\n",
       "      <td>-1.016378</td>\n",
       "      <td>0.418213</td>\n",
       "      <td>-0.418213</td>\n",
       "      <td>1.354744</td>\n",
       "      <td>-1.354744</td>\n",
       "    </tr>\n",
       "    <tr>\n",
       "      <th>4</th>\n",
       "      <td>-0.541352</td>\n",
       "      <td>0.121161</td>\n",
       "      <td>-0.476212</td>\n",
       "      <td>2.244067</td>\n",
       "      <td>0.772177</td>\n",
       "      <td>1.982953</td>\n",
       "      <td>0.781845</td>\n",
       "      <td>-0.108474</td>\n",
       "      <td>-0.796417</td>\n",
       "      <td>-0.005039</td>\n",
       "      <td>-0.007894</td>\n",
       "      <td>1.404533</td>\n",
       "      <td>-0.707372</td>\n",
       "      <td>-0.70198</td>\n",
       "      <td>1.016378</td>\n",
       "      <td>-1.016378</td>\n",
       "      <td>0.418213</td>\n",
       "      <td>-0.418213</td>\n",
       "      <td>-0.738147</td>\n",
       "      <td>0.738147</td>\n",
       "    </tr>\n",
       "  </tbody>\n",
       "</table>\n",
       "</div>"
      ],
      "text/plain": [
       "   bank_accounts_open  credit_cards_held  homes_owned  household_size  \\\n",
       "0           -0.541352           0.121161    -0.476212        0.449452   \n",
       "1           -0.541352           0.121161     1.863330        1.346760   \n",
       "2            1.575537           0.121161    -0.476212       -1.345162   \n",
       "3            1.575537          -1.133443    -0.476212        0.449452   \n",
       "4           -0.541352           0.121161    -0.476212        2.244067   \n",
       "\n",
       "   average_balance  q1_balance  q2_balance  q3_balance  q4_balance  \\\n",
       "0         0.628724    1.223349   -0.267589    0.095704    0.343147   \n",
       "1        -2.264609   -1.405430   -1.953241   -1.741902   -0.794628   \n",
       "2        -1.895627   -0.876449   -1.415407   -1.620841   -1.016458   \n",
       "3         0.795015    1.076589    1.662932    0.139070   -0.699813   \n",
       "4         0.772177    1.982953    0.781845   -0.108474   -0.796417   \n",
       "\n",
       "   income_level  credit_rating  reward_Air Miles  reward_Cash Back  \\\n",
       "0      1.410295       1.215460          1.404533         -0.707372   \n",
       "1     -0.005039      -0.007894          1.404533         -0.707372   \n",
       "2      1.410295      -0.007894          1.404533         -0.707372   \n",
       "3     -0.005039       1.215460          1.404533         -0.707372   \n",
       "4     -0.005039      -0.007894          1.404533         -0.707372   \n",
       "\n",
       "   reward_Points  mailer_type_Letter  mailer_type_Postcard  \\\n",
       "0       -0.70198            1.016378             -1.016378   \n",
       "1       -0.70198            1.016378             -1.016378   \n",
       "2       -0.70198           -0.983886              0.983886   \n",
       "3       -0.70198            1.016378             -1.016378   \n",
       "4       -0.70198            1.016378             -1.016378   \n",
       "\n",
       "   overdraft_protection_No  overdraft_protection_Yes  own_your_home_No  \\\n",
       "0                 0.418213                 -0.418213          1.354744   \n",
       "1                 0.418213                 -0.418213         -0.738147   \n",
       "2                 0.418213                 -0.418213         -0.738147   \n",
       "3                 0.418213                 -0.418213          1.354744   \n",
       "4                 0.418213                 -0.418213         -0.738147   \n",
       "\n",
       "   own_your_home_Yes  \n",
       "0          -1.354744  \n",
       "1           0.738147  \n",
       "2           0.738147  \n",
       "3          -1.354744  \n",
       "4           0.738147  "
      ]
     },
     "execution_count": 12,
     "metadata": {},
     "output_type": "execute_result"
    }
   ],
   "source": [
    "independents = X.copy() # make a separate df to preserve the column headers\n",
    "\n",
    "transformer = StandardScaler().fit(independents)\n",
    "standard_x = transformer.transform(independents)\n",
    "X = pd.DataFrame(standard_x)\n",
    "X.columns = independents.columns # put the column headers back\n",
    "X.head()"
   ]
  },
  {
   "attachments": {},
   "cell_type": "markdown",
   "id": "b9504266",
   "metadata": {},
   "source": [
    "#### Optional:\n",
    "\n",
    "We can plot the data before and after to see if there are any differences."
   ]
  },
  {
   "cell_type": "code",
   "execution_count": null,
   "id": "482a146a",
   "metadata": {},
   "outputs": [],
   "source": [
    "sns.pairplot(independents)"
   ]
  },
  {
   "cell_type": "code",
   "execution_count": null,
   "id": "486f8069",
   "metadata": {},
   "outputs": [],
   "source": [
    "sns.pairplot(X)"
   ]
  },
  {
   "cell_type": "code",
   "execution_count": null,
   "id": "6ca645b8",
   "metadata": {},
   "outputs": [],
   "source": [
    "colorblind1 = sns.set_palette(sns.color_palette(colors))\n",
    "\n",
    "#Create a matrix of panels sharing the same y axis (total claim amount)\n",
    "\n",
    "fig, axs = plt.subplots(10, 2, figsize=(30, 50)) # width and height \n",
    "axs = axs.flatten()\n",
    "fig.subplots_adjust(hspace=.2, wspace=.2) # ensure that the plots do not overlap\n",
    "\n",
    "\n",
    "for i, column in enumerate(X.columns):\n",
    "    sns.histplot(data=X, x=column, palette=sns.color_palette(\"colorblind\"), bins=25, element='step', stat='density', alpha=0.7, ax=axs[i]) # use element='step' to create a histogram-like plot, and stat='density' to normalize the y-axis\n",
    "    axs[i].set_title(column)\n",
    "\n",
    "plt.show()\n"
   ]
  },
  {
   "attachments": {},
   "cell_type": "markdown",
   "id": "2ef0b465",
   "metadata": {},
   "source": [
    "In the countplot below, we see that the majority class, 'No' is much larger than the minority class 'Yes'. \n",
    "\n",
    "A possible consequence of this imbalance is that if we attempt to predict acceptance of an offer of a credit card (i.e., a 'yes' or 'no' answer), then our machine learning models risk being biased towards the majority class. They will tend to less accurate when predicting 'Yes'. "
   ]
  },
  {
   "cell_type": "code",
   "execution_count": 58,
   "id": "646094b5",
   "metadata": {},
   "outputs": [
    {
     "data": {
      "text/plain": [
       "<AxesSubplot: xlabel='offer_accepted', ylabel='count'>"
      ]
     },
     "execution_count": 58,
     "metadata": {},
     "output_type": "execute_result"
    },
    {
     "data": {
      "image/png": "[encoded data removed]",
      "text/plain": [
       "<Figure size 640x480 with 1 Axes>"
      ]
     },
     "metadata": {},
     "output_type": "display_data"
    }
   ],
   "source": [
    "sns.countplot(x=y_cats[\"offer_accepted\"], palette=sns.color_palette(\"colorblind\"))\n"
   ]
  },
  {
   "attachments": {},
   "cell_type": "markdown",
   "id": "7ad0a76c",
   "metadata": {},
   "source": [
    "## Training the data"
   ]
  },
  {
   "attachments": {},
   "cell_type": "markdown",
   "id": "bfb31be4",
   "metadata": {},
   "source": [
    "**test_size** =  proportion of the data that should be used for testing. In this case, 30% of the data will be used for testing, while the remaining 70% will be used for training.\n",
    "\n",
    "**random_state** = is a parameter that sets the random seed, which ensures that the same random split is generated each time the code is run. This is useful for reproducibility.\n",
    "\n",
    "The function returns four objects:\n",
    "\n",
    "#### Indepedent variables\n",
    "\n",
    "*X_train* is a subset of the input dataset containing the independent variables for the training set.\n",
    "\n",
    "\n",
    "*X_test* is a subset of the input dataset containing the independent variables for the testing set.\n",
    "\n",
    "#### Dependent variables\n",
    "\n",
    "*y_train* is a subset of the target variable corresponding to the observations in X_train.\n",
    "\n",
    "*y_test* is a subset of the target variable corresponding to the observations in X_test.\n",
    "\n",
    "By splitting the dataset into training and testing sets, we can train a machine learning model on the training set and evaluate its performance on the testing set. This helps to assess the generalization ability of the model, i.e. how well it can predict on new, unseen data."
   ]
  },
  {
   "cell_type": "code",
   "execution_count": 13,
   "id": "429dfcc3",
   "metadata": {},
   "outputs": [
    {
     "name": "stdout",
     "output_type": "stream",
     "text": [
      "Number CC acceptance X_train dataset:  (14380, 20)\n",
      "Number CC acceptance y_train dataset:  (14380, 1)\n",
      "Number CC acceptance X_test dataset:  (3596, 20)\n",
      "Number CC acceptance y_test dataset:  (3596, 1)\n"
     ]
    }
   ],
   "source": [
    "from sklearn.model_selection import train_test_split\n",
    "\n",
    "# Split the data into training and testing sets\n",
    "X_train, X_test, y_train, y_test = train_test_split(X, y, test_size=0.2, random_state=42)\n",
    "\n",
    "# describes info about train and test set\n",
    "\n",
    "print(\"Number CC acceptance X_train dataset: \", X_train.shape)\n",
    "print(\"Number CC acceptance y_train dataset: \", y_train.shape)\n",
    "print(\"Number CC acceptance X_test dataset: \", X_test.shape)\n",
    "print(\"Number CC acceptance y_test dataset: \", y_test.shape)"
   ]
  },
  {
   "attachments": {},
   "cell_type": "markdown",
   "id": "b5150c7f",
   "metadata": {},
   "source": [
    "Then we train a logistic regression classification model on the training data and then use the model to make predictions on new test data.\n",
    "\n",
    "The predicted labels can then be compared to the true labels (y_test) to evaluate the performance of the model."
   ]
  },
  {
   "cell_type": "code",
   "execution_count": 14,
   "id": "4c5c2365",
   "metadata": {},
   "outputs": [],
   "source": [
    "from sklearn.linear_model import LogisticRegression\n",
    "\n",
    "classing = LogisticRegression(random_state=0, multi_class = 'ovr').fit(X_train, y_train)\n",
    "predictions = classing.predict(X_test)"
   ]
  },
  {
   "cell_type": "code",
   "execution_count": 15,
   "id": "738bcc7a",
   "metadata": {},
   "outputs": [
    {
     "data": {
      "text/plain": [
       "array([[3405,    0],\n",
       "       [ 191,    0]])"
      ]
     },
     "execution_count": 15,
     "metadata": {},
     "output_type": "execute_result"
    }
   ],
   "source": [
    "confusion_matrix(y_test,predictions)"
   ]
  },
  {
   "cell_type": "code",
   "execution_count": 16,
   "id": "17f98233",
   "metadata": {},
   "outputs": [
    {
     "data": {
      "image/png": "[encoded data removed]",
      "text/plain": [
       "<Figure size 640x480 with 2 Axes>"
      ]
     },
     "metadata": {},
     "output_type": "display_data"
    }
   ],
   "source": [
    "\n",
    "confusion_matrix = metrics.confusion_matrix(y_test, predictions)\n",
    "cm_display = metrics.ConfusionMatrixDisplay(confusion_matrix = confusion_matrix, display_labels = [False, True])\n",
    "cm_display.plot()\n",
    "plt.show() "
   ]
  },
  {
   "attachments": {},
   "cell_type": "markdown",
   "id": "35278617",
   "metadata": {},
   "source": [
    "<blockquote style=\"background-color: #F1F8E9; color: #37474F; border-color: #558B2F; padding: 10px; border-radius: 5px;\">\n",
    "            \n",
    "**Interpreting the confusion matrix:**\n",
    "    \n",
    "_____________\n",
    "\n",
    "From the above confusion matrix, we can see that we were able to predict:\n",
    "\n",
    "- **3405 True Negatives (Top-Left Quadrant)**\n",
    "- O False Positives (Top-Right Quadrant)\n",
    "- 191 False Negatives (Bottom-Left Quadrant)\n",
    "- O True Positives (Bottom-Right Quadrant)\n",
    "\n",
    "This suggests that our model is heavily biased towards true negatives or the 'No', i.e, rejecting the credit card.\n",
    "_____________\n",
    "</blockquote>"
   ]
  },
  {
   "attachments": {},
   "cell_type": "markdown",
   "id": "98894fac",
   "metadata": {},
   "source": [
    "When we run our classing score function, we see that the R2 is very high:\n",
    "\n",
    "0.95"
   ]
  },
  {
   "attachments": {},
   "cell_type": "markdown",
   "id": "dc161e00",
   "metadata": {},
   "source": [
    "<blockquote style=\"background-color: #E3F2FD; color: #37474F; border-color: #1565C0; padding: 10px; border-radius: 5px;\">\n",
    "            \n",
    "##  📊 Evaluating our data : 📊\n",
    "    \n",
    "_____________\n",
    "\n",
    "**Classification score:** This is a general term that refers to any metric that measures the performance of a classification model. It can refer to any of the other metrics listed below, such as accuracy, precision, recall, or F1-score.\n",
    "\n",
    "**Accuracy:** This is the most common metric for evaluating the performance of a classification model. It measures the proportion of correctly classified instances (both true positives and true negatives) out of all instances in the dataset.\n",
    "\n",
    "**Precision:** Precision measures the proportion of correctly predicted positive instances (true positives) out of all instances predicted as positive (both true positives and false positives). It is a measure of the model's ability to correctly identify positive instances.\n",
    "\n",
    "**Recall:** Recall (also known as sensitivity) measures the proportion of correctly predicted positive instances (true positives) out of all actual positive instances (both true positives and false negatives). It is a measure of the model's ability to identify all positive instances.\n",
    "\n",
    "**F1-score:** F1-score is a harmonic mean of precision and recall, and provides a balanced measure between the two. It ranges between 0 and 1, with higher values indicating better performance. It is calculated as 2 * (precision * recall) / (precision + recall).\n",
    "\n",
    "**AUC-ROC:** AUC-ROC (Area Under the Receiver Operating Characteristic Curve) is a metric that measures the ability of a binary classification model to distinguish between positive and negative instances. It is calculated by plotting the true positive rate (recall) against the false positive rate (1 - specificity) at different classification thresholds, and calculating the area under the resulting curve. The AUC-ROC ranges from 0 to 1, with higher values indicating better performance."
   ]
  },
  {
   "cell_type": "code",
   "execution_count": 17,
   "id": "45989bb2",
   "metadata": {},
   "outputs": [
    {
     "data": {
      "text/plain": [
       "0.9468854282536151"
      ]
     },
     "execution_count": 17,
     "metadata": {},
     "output_type": "execute_result"
    }
   ],
   "source": [
    "classing.score(X_test,y_test)"
   ]
  },
  {
   "attachments": {},
   "cell_type": "markdown",
   "id": "7626aa1a",
   "metadata": {},
   "source": [
    "And the accuracy score is identical:\n",
    "\n",
    "0.95"
   ]
  },
  {
   "cell_type": "code",
   "execution_count": 18,
   "id": "63580c21",
   "metadata": {},
   "outputs": [
    {
     "data": {
      "text/plain": [
       "0.9468854282536151"
      ]
     },
     "execution_count": 18,
     "metadata": {},
     "output_type": "execute_result"
    }
   ],
   "source": [
    "Accuracy = metrics.accuracy_score(y_test, predictions) # same as the classing score \n",
    "Accuracy"
   ]
  },
  {
   "cell_type": "code",
   "execution_count": 19,
   "id": "108281aa",
   "metadata": {},
   "outputs": [
    {
     "name": "stdout",
     "output_type": "stream",
     "text": [
      "              precision    recall  f1-score   support\n",
      "\n",
      "           0       0.95      1.00      0.97      3405\n",
      "           1       0.00      0.00      0.00       191\n",
      "\n",
      "    accuracy                           0.95      3596\n",
      "   macro avg       0.47      0.50      0.49      3596\n",
      "weighted avg       0.90      0.95      0.92      3596\n",
      "\n"
     ]
    }
   ],
   "source": [
    "print(metrics.classification_report(y_test, predictions))"
   ]
  },
  {
   "attachments": {},
   "cell_type": "markdown",
   "id": "805a1261",
   "metadata": {},
   "source": [
    "If we run an f-1 score we can see that accuracy is identical (.95)\n",
    "\n",
    "| precision | recall | f1-score | support |\n",
    "| --------- | ------ | -------- | ------- |\n",
    "| 0.95      | 1      | 0.97     | 3405    |\n",
    "| 0         | 0      | 0        | 191     |\n",
    "| accuracy  |        | 0.95     | 3596    |"
   ]
  },
  {
   "attachments": {},
   "cell_type": "markdown",
   "id": "82484a90",
   "metadata": {},
   "source": [
    "## Resampling the data "
   ]
  },
  {
   "attachments": {},
   "cell_type": "markdown",
   "id": "a3b59edd",
   "metadata": {},
   "source": [
    "To balance the data, we'll try oversampling using the Synthetic Minority Over-sampling Technique (SMOTE). This will balance the class distribution of the target variable 'offer_accepted'."
   ]
  },
  {
   "cell_type": "code",
   "execution_count": 20,
   "id": "d5347ac1",
   "metadata": {},
   "outputs": [
    {
     "data": {
      "text/plain": [
       "No     16955\n",
       "Yes    16955\n",
       "Name: offer_accepted, dtype: int64"
      ]
     },
     "execution_count": 20,
     "metadata": {},
     "output_type": "execute_result"
    }
   ],
   "source": [
    "from imblearn.over_sampling import SMOTE\n",
    "smote = SMOTE()\n",
    "X = independents[['bank_accounts_open',\n",
    " 'credit_cards_held',\n",
    " 'homes_owned',\n",
    " 'household_size',\n",
    " 'average_balance',\n",
    " 'q1_balance',\n",
    " 'q2_balance',\n",
    " 'q3_balance',\n",
    " 'q4_balance',\n",
    " 'income_level',\n",
    " 'credit_rating',\n",
    " 'reward_Air Miles',\n",
    " 'reward_Cash Back',\n",
    " 'reward_Points',\n",
    " 'mailer_type_Letter',\n",
    " 'mailer_type_Postcard',\n",
    " 'overdraft_protection_No',\n",
    " 'overdraft_protection_Yes',\n",
    " 'own_your_home_No',\n",
    " 'own_your_home_Yes']]\n",
    "transformer = StandardScaler().fit(X)\n",
    "X = transformer.transform(X)\n",
    "y = y_cats['offer_accepted']\n",
    "X_sm, y_sm = smote.fit_resample(X, y)\n",
    "y_sm.value_counts()"
   ]
  },
  {
   "attachments": {},
   "cell_type": "markdown",
   "id": "f1ce7e56",
   "metadata": {},
   "source": [
    "The classes have been balanced using SMOTE, so you can see that the number of samples with label Yes is equal to the number of samples with label No. This means that the class distribution is now even, with both classes having the same number of samples (in this case, 16955)."
   ]
  },
  {
   "attachments": {},
   "cell_type": "markdown",
   "id": "4ed2dbc5",
   "metadata": {},
   "source": [
    "Now our model has a lower classification score:\n",
    "\n",
    "From 0.95 to 0.70"
   ]
  },
  {
   "cell_type": "code",
   "execution_count": 59,
   "id": "bd811723",
   "metadata": {},
   "outputs": [],
   "source": [
    "X_train, X_test, y_train, y_test = train_test_split(X_sm, y_sm, test_size=0.3, random_state=100)\n",
    "classification = LogisticRegression(random_state=0, multi_class='ovr').fit(X_train, y_train)\n",
    "predictions = classification.predict(X_test)\n",
    "classification_score = classification.score(X_test, y_test)\n",
    "\n",
    "\n"
   ]
  },
  {
   "cell_type": "code",
   "execution_count": 30,
   "id": "9f17e50d",
   "metadata": {},
   "outputs": [
    {
     "name": "stdout",
     "output_type": "stream",
     "text": [
      "Classification score: 0.7029391526589993\n",
      "Accuracy: 0.7029391526589993\n",
      "Precision: 0.7046232643185588\n",
      "Recall: 0.7029391526589993\n",
      "F1-score: 0.7025669376784855\n",
      "AUC-ROC: 0.7731895673832054\n"
     ]
    }
   ],
   "source": [
    "from sklearn.linear_model import LogisticRegression\n",
    "from sklearn.metrics import accuracy_score, precision_score, recall_score, f1_score, roc_auc_score\n",
    "\n",
    "# Split the data into training and testing sets\n",
    "X_train, X_test, y_train, y_test = train_test_split(X_sm, y_sm, test_size=0.3, random_state=100)\n",
    "\n",
    "# Train a logistic regression model\n",
    "model = LogisticRegression(random_state=0, multi_class='ovr').fit(X_train, y_train)\n",
    "\n",
    "# Make predictions on the testing set\n",
    "y_pred = model.predict(X_test)\n",
    "\n",
    "# Evaluate the performance using various metrics\n",
    "classification_score = classification.score(X_test, y_test)\n",
    "accuracy = accuracy_score(y_test, y_pred)\n",
    "precision = precision_score(y_test, y_pred, average='weighted') #  give more importance to the performance on the positive class\n",
    "recall = recall_score(y_test, y_pred, average='weighted') # give more importance to the performance on the positive class\n",
    "f1 = f1_score(y_test, y_pred, average='weighted') # give more importance to the performance on the positive class\n",
    "auc_roc = roc_auc_score(y_test, model.predict_proba(X_test)[:, 1])\n",
    "\n",
    "# Print the results\n",
    "print(\"Classification score:\", classification_score)\n",
    "print(\"Accuracy:\", accuracy)\n",
    "print(\"Precision:\", precision)\n",
    "print(\"Recall:\", recall)\n",
    "print(\"F1-score:\", f1)\n",
    "print(\"AUC-ROC:\", auc_roc)\n"
   ]
  },
  {
   "cell_type": "code",
   "execution_count": null,
   "id": "deaad935",
   "metadata": {},
   "outputs": [],
   "source": [
    "# Plot the logistic regression curve\n",
    "plt.figure(figsize=(8, 6))\n",
    "plt.scatter(X_test[:, 0], y_test, color='black', label='data')\n",
    "plt.plot(X_test[:, 0], model.predict(X_test), color='blue', linewidth=3, label='Logistic regression')\n",
    "plt.xlabel('Feature')\n",
    "plt.ylabel('Target')\n",
    "plt.title('Logistic Regression Curve')\n",
    "plt.legend()\n",
    "plt.show()\n",
    "\n",
    "# Plot the ROC-AUC curve\n",
    "y_probs = model.predict_proba(X_test)[:, 1]\n",
    "fpr, tpr, thresholds = roc_curve(y_test, y_probs)\n",
    "roc_auc = roc_auc_score(y_test, y_probs)\n",
    "\n",
    "plt.figure(figsize=(8, 6))\n",
    "plt.plot(fpr, tpr, color='darkorange', label='ROC curve (AUC = %0.2f)' % roc_auc)\n",
    "plt.plot([0, 1], [0, 1], color='navy', linestyle='--')\n",
    "plt.xlim([0.0, 1.0])\n",
    "plt.ylim([0.0, 1.05])\n",
    "plt.xlabel('False Positive Rate')\n",
    "plt.ylabel('True Positive Rate')\n",
    "plt.title('ROC Curve')\n",
    "plt.legend(loc=\"lower right\")\n",
    "plt.show()"
   ]
  },
  {
   "cell_type": "code",
   "execution_count": 46,
   "id": "af627c67",
   "metadata": {},
   "outputs": [
    {
     "data": {
      "image/png": "[encoded data removed]",
      "text/plain": [
       "<Figure size 640x480 with 1 Axes>"
      ]
     },
     "metadata": {},
     "output_type": "display_data"
    }
   ],
   "source": [
    "\n",
    "from sklearn.preprocessing import LabelEncoder\n",
    "\n",
    "X_train, X_test, y_train, y_test = train_test_split(X, y, test_size=0.2, random_state=42)\n",
    "\n",
    "# predict probabilities of positive class\n",
    "y_probs = model.predict_proba(X_test)[:, 1]\n",
    "\n",
    "# calculate AUC-ROC score\n",
    "auc_score = roc_auc_score(y_test, y_probs)\n",
    "\n",
    "# calculate ROC curve\n",
    "fpr, tpr, _ = roc_curve(y_test, y_probs)\n",
    "\n",
    "# plot ROC curve\n",
    "plt.plot(fpr, tpr, label=f'AUC-ROC={auc_score:.3f}')\n",
    "plt.plot([0, 1], [0, 1], linestyle='--')\n",
    "plt.xlabel('False Positive Rate')\n",
    "plt.ylabel('True Positive Rate')\n",
    "plt.legend()\n",
    "plt.show()"
   ]
  },
  {
   "cell_type": "markdown",
   "id": "6f18c1e8",
   "metadata": {},
   "source": [
    "### UnderSampling using TomekLinks "
   ]
  },
  {
   "cell_type": "code",
   "execution_count": 48,
   "id": "cb92f032",
   "metadata": {},
   "outputs": [
    {
     "data": {
      "text/plain": [
       "offer_accepted\n",
       "No                0.941674\n",
       "Yes               0.058326\n",
       "dtype: float64"
      ]
     },
     "execution_count": 48,
     "metadata": {},
     "output_type": "execute_result"
    }
   ],
   "source": [
    "from imblearn.under_sampling import TomekLinks\n",
    "\n",
    "tl = TomekLinks(sampling_strategy='majority')\n",
    "X_tl, y_tl = tl.fit_resample(X, y_cats)\n",
    "y_tl.value_counts(normalize=True)"
   ]
  },
  {
   "cell_type": "code",
   "execution_count": 57,
   "id": "a689ab4c",
   "metadata": {},
   "outputs": [
    {
     "name": "stdout",
     "output_type": "stream",
     "text": [
      "Classification score: 0.9364051789794364\n",
      "Accuracy: 0.9364051789794364\n",
      "Precision: 0.8768546592195103\n",
      "Recall: 0.9364051789794364\n",
      "F1-score: 0.9056520492076438\n",
      "AUC-ROC: 0.7441952207825099\n"
     ]
    }
   ],
   "source": [
    "X_train, X_test, y_train, y_test = train_test_split(X_tl, y_tl, test_size=0.3, random_state=100)\n",
    "classification = LogisticRegression(random_state=0, multi_class='ovr').fit(X_train, y_train)\n",
    "\n",
    "# Make predictions on the testing set\n",
    "y_pred = classification.predict(X_test)\n",
    "\n",
    "# Evaluate the performance using various metrics\n",
    "classification.score(X_test, y_test)\n",
    "\n",
    "auc_roc = roc_auc_score(y_test, model.predict_proba(X_test)[:, 1])\n",
    "\n",
    "# Evaluate the performance using various metrics\n",
    "accuracy = accuracy_score(y_test, y_pred)\n",
    "precision = precision_score(y_test, y_pred, average='weighted') #  give more importance to the performance on the positive class\n",
    "recall = recall_score(y_test, y_pred, average='weighted') # give more importance to the performance on the positive class\n",
    "f1 = f1_score(y_test, y_pred, average='weighted') # give more importance to the performance on the positive class\n",
    "auc_roc = roc_auc_score(y_test, model.predict_proba(X_test)[:, 1])\n",
    "\n",
    "# Print the results\n",
    "print(\"Classification score:\", classification_score)\n",
    "print(\"Accuracy:\", accuracy)\n",
    "print(\"Precision:\", precision)\n",
    "print(\"Recall:\", recall)\n",
    "print(\"F1-score:\", f1)\n",
    "print(\"AUC-ROC:\", auc_roc)\n",
    "\n"
   ]
  },
  {
   "attachments": {},
   "cell_type": "markdown",
   "id": "9f4dc8ab",
   "metadata": {},
   "source": [
    "The AUC-ROC score may be lower than the other metrics if the model is making many false positive predictions, which would be penalized more heavily when the decision threshold is set higher.\n",
    "\n",
    "However, we've seen that our model makes more false-negative predictions. "
   ]
  },
  {
   "attachments": {},
   "cell_type": "markdown",
   "id": "dbcb9cc4",
   "metadata": {},
   "source": [
    "<blockquote style=\"background-color: #F1F8E9; color: #37474F; border-color: #558B2F; padding: 10px; border-radius: 5px;\">\n",
    "        \n",
    "_____________\n",
    "\n",
    "## 🚧 analysis & next steps 🚧 \n",
    "\n",
    "learning towards towards the SMOTE for now\n",
    "- the AUC-ROC in tomek links is lower than smote\n",
    "- the accuracy, recall, f1 are all in the 90s that suggests that the majority class (i.e., No) is still over represented \n",
    "\n",
    "\n",
    "\n",
    "To do:\n",
    "\n",
    "- Choose which features have the bigget effect on imbalance \n",
    "- yes and not is affected by these features\n",
    "\n",
    "- run a model with the greatest predictive value \n",
    "- rule out variables that are less important\n",
    "- which scaler performed the best and why\n",
    "cf. \n",
    "sklearn feature importance  logitic regression \n",
    "\n",
    "\n",
    "\n",
    "_____________\n",
    "</blockquote>\n",
    "\n"
   ]
  },
  {
   "attachments": {},
   "cell_type": "markdown",
   "id": "b23cb79e",
   "metadata": {},
   "source": [
    "# temporary commands & to do\n"
   ]
  },
  {
   "cell_type": "code",
   "execution_count": null,
   "id": "7c133091",
   "metadata": {},
   "outputs": [],
   "source": [
    "\n",
    "y.head()"
   ]
  },
  {
   "attachments": {},
   "cell_type": "markdown",
   "id": "f41560a7",
   "metadata": {},
   "source": [
    "\n"
   ]
  }
 ],
 "metadata": {
  "kernelspec": {
   "display_name": "Python 3 (ipykernel)",
   "language": "python",
   "name": "python3"
  },
  "language_info": {
   "codemirror_mode": {
    "name": "ipython",
    "version": 3
   },
   "file_extension": ".py",
   "mimetype": "text/x-python",
   "name": "python",
   "nbconvert_exporter": "python",
   "pygments_lexer": "ipython3",
   "version": "3.11.1"
  }
 },
 "nbformat": 4,
 "nbformat_minor": 5
}
