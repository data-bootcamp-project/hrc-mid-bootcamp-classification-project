{
 "cells": [
  {
   "cell_type": "code",
   "execution_count": 1,
   "id": "7b312cb8",
   "metadata": {},
   "outputs": [],
   "source": [
    "import pandas as pd\n",
    "import numpy as np\n",
    "from sklearn.linear_model import LogisticRegression\n",
    "from sklearn.preprocessing import StandardScaler\n",
    "from sklearn.metrics import confusion_matrix\n",
    "import warnings\n",
    "from sklearn.metrics import cohen_kappa_score\n",
    "from matplotlib import pyplot as plt\n",
    "import seaborn as sns\n",
    "from sklearn import metrics\n",
    "\n",
    "\n",
    "from sklearn.model_selection import train_test_split\n",
    "warnings.filterwarnings('ignore')\n",
    "\n"
   ]
  },
  {
   "attachments": {},
   "cell_type": "markdown",
   "id": "0d1155f3",
   "metadata": {},
   "source": [
    "### Put presets in place"
   ]
  },
  {
   "attachments": {},
   "cell_type": "markdown",
   "id": "823d3bc3",
   "metadata": {},
   "source": [
    "#### Colorblind-friendly palette"
   ]
  },
  {
   "cell_type": "code",
   "execution_count": 2,
   "id": "b977769c",
   "metadata": {},
   "outputs": [],
   "source": [
    "# Create an array with the colors you want to use\n",
    "colors = [\"#FF0B04\", \"#4374B3\",\"#999999\", \"#E69F00\", \"#56B4E9\", \"#009E73\", \"#F0E442\", \"#0072B2\", \"#D55E00\", \"#CC79A7\"]\n",
    "# Set a custom color palette for colour blind readers\n",
    "\n",
    "# Assign a name to the palette\n",
    "colorblind1 = sns.set_palette(sns.color_palette(colors)) \n"
   ]
  },
  {
   "attachments": {},
   "cell_type": "markdown",
   "id": "38331648",
   "metadata": {},
   "source": [
    "### Import Data"
   ]
  },
  {
   "attachments": {},
   "cell_type": "markdown",
   "id": "486e1df4",
   "metadata": {},
   "source": [
    "During the EDA phase, we cleaned the data and separated the dataset into two separate dataframes:\n",
    "\n",
    "X = the independent variables\n",
    "\n",
    "y = the target variable\n"
   ]
  },
  {
   "cell_type": "code",
   "execution_count": 4,
   "id": "f09c08e9",
   "metadata": {},
   "outputs": [
    {
     "data": {
      "text/html": [
       "<div>\n",
       "<style scoped>\n",
       "    .dataframe tbody tr th:only-of-type {\n",
       "        vertical-align: middle;\n",
       "    }\n",
       "\n",
       "    .dataframe tbody tr th {\n",
       "        vertical-align: top;\n",
       "    }\n",
       "\n",
       "    .dataframe thead th {\n",
       "        text-align: right;\n",
       "    }\n",
       "</style>\n",
       "<table border=\"1\" class=\"dataframe\">\n",
       "  <thead>\n",
       "    <tr style=\"text-align: right;\">\n",
       "      <th></th>\n",
       "      <th>bank_accounts_open</th>\n",
       "      <th>credit_cards_held</th>\n",
       "      <th>homes_owned</th>\n",
       "      <th>household_size</th>\n",
       "      <th>average_balance</th>\n",
       "      <th>q1_balance</th>\n",
       "      <th>q2_balance</th>\n",
       "      <th>q3_balance</th>\n",
       "      <th>q4_balance</th>\n",
       "      <th>income_level</th>\n",
       "      <th>credit_rating</th>\n",
       "      <th>reward_Air Miles</th>\n",
       "      <th>reward_Cash Back</th>\n",
       "      <th>reward_Points</th>\n",
       "      <th>mailer_type_Letter</th>\n",
       "      <th>mailer_type_Postcard</th>\n",
       "      <th>overdraft_protection_No</th>\n",
       "      <th>overdraft_protection_Yes</th>\n",
       "      <th>own_your_home_No</th>\n",
       "      <th>own_your_home_Yes</th>\n",
       "    </tr>\n",
       "  </thead>\n",
       "  <tbody>\n",
       "    <tr>\n",
       "      <th>0</th>\n",
       "      <td>1</td>\n",
       "      <td>2</td>\n",
       "      <td>1</td>\n",
       "      <td>4</td>\n",
       "      <td>1160.75</td>\n",
       "      <td>1669.0</td>\n",
       "      <td>877.0</td>\n",
       "      <td>1095.0</td>\n",
       "      <td>1002.0</td>\n",
       "      <td>2</td>\n",
       "      <td>2</td>\n",
       "      <td>1</td>\n",
       "      <td>0</td>\n",
       "      <td>0</td>\n",
       "      <td>1</td>\n",
       "      <td>0</td>\n",
       "      <td>1</td>\n",
       "      <td>0</td>\n",
       "      <td>1</td>\n",
       "      <td>0</td>\n",
       "    </tr>\n",
       "    <tr>\n",
       "      <th>1</th>\n",
       "      <td>1</td>\n",
       "      <td>2</td>\n",
       "      <td>2</td>\n",
       "      <td>5</td>\n",
       "      <td>147.25</td>\n",
       "      <td>39.0</td>\n",
       "      <td>106.0</td>\n",
       "      <td>78.0</td>\n",
       "      <td>366.0</td>\n",
       "      <td>1</td>\n",
       "      <td>1</td>\n",
       "      <td>1</td>\n",
       "      <td>0</td>\n",
       "      <td>0</td>\n",
       "      <td>1</td>\n",
       "      <td>0</td>\n",
       "      <td>1</td>\n",
       "      <td>0</td>\n",
       "      <td>0</td>\n",
       "      <td>1</td>\n",
       "    </tr>\n",
       "    <tr>\n",
       "      <th>2</th>\n",
       "      <td>2</td>\n",
       "      <td>2</td>\n",
       "      <td>1</td>\n",
       "      <td>2</td>\n",
       "      <td>276.50</td>\n",
       "      <td>367.0</td>\n",
       "      <td>352.0</td>\n",
       "      <td>145.0</td>\n",
       "      <td>242.0</td>\n",
       "      <td>2</td>\n",
       "      <td>1</td>\n",
       "      <td>1</td>\n",
       "      <td>0</td>\n",
       "      <td>0</td>\n",
       "      <td>0</td>\n",
       "      <td>1</td>\n",
       "      <td>1</td>\n",
       "      <td>0</td>\n",
       "      <td>0</td>\n",
       "      <td>1</td>\n",
       "    </tr>\n",
       "    <tr>\n",
       "      <th>3</th>\n",
       "      <td>2</td>\n",
       "      <td>1</td>\n",
       "      <td>1</td>\n",
       "      <td>4</td>\n",
       "      <td>1219.00</td>\n",
       "      <td>1578.0</td>\n",
       "      <td>1760.0</td>\n",
       "      <td>1119.0</td>\n",
       "      <td>419.0</td>\n",
       "      <td>1</td>\n",
       "      <td>2</td>\n",
       "      <td>1</td>\n",
       "      <td>0</td>\n",
       "      <td>0</td>\n",
       "      <td>1</td>\n",
       "      <td>0</td>\n",
       "      <td>1</td>\n",
       "      <td>0</td>\n",
       "      <td>1</td>\n",
       "      <td>0</td>\n",
       "    </tr>\n",
       "    <tr>\n",
       "      <th>4</th>\n",
       "      <td>1</td>\n",
       "      <td>2</td>\n",
       "      <td>1</td>\n",
       "      <td>6</td>\n",
       "      <td>1211.00</td>\n",
       "      <td>2140.0</td>\n",
       "      <td>1357.0</td>\n",
       "      <td>982.0</td>\n",
       "      <td>365.0</td>\n",
       "      <td>1</td>\n",
       "      <td>1</td>\n",
       "      <td>1</td>\n",
       "      <td>0</td>\n",
       "      <td>0</td>\n",
       "      <td>1</td>\n",
       "      <td>0</td>\n",
       "      <td>1</td>\n",
       "      <td>0</td>\n",
       "      <td>0</td>\n",
       "      <td>1</td>\n",
       "    </tr>\n",
       "  </tbody>\n",
       "</table>\n",
       "</div>"
      ],
      "text/plain": [
       "   bank_accounts_open  credit_cards_held  homes_owned  household_size  \\\n",
       "0                   1                  2            1               4   \n",
       "1                   1                  2            2               5   \n",
       "2                   2                  2            1               2   \n",
       "3                   2                  1            1               4   \n",
       "4                   1                  2            1               6   \n",
       "\n",
       "   average_balance  q1_balance  q2_balance  q3_balance  q4_balance  \\\n",
       "0          1160.75      1669.0       877.0      1095.0      1002.0   \n",
       "1           147.25        39.0       106.0        78.0       366.0   \n",
       "2           276.50       367.0       352.0       145.0       242.0   \n",
       "3          1219.00      1578.0      1760.0      1119.0       419.0   \n",
       "4          1211.00      2140.0      1357.0       982.0       365.0   \n",
       "\n",
       "   income_level  credit_rating  reward_Air Miles  reward_Cash Back  \\\n",
       "0             2              2                 1                 0   \n",
       "1             1              1                 1                 0   \n",
       "2             2              1                 1                 0   \n",
       "3             1              2                 1                 0   \n",
       "4             1              1                 1                 0   \n",
       "\n",
       "   reward_Points  mailer_type_Letter  mailer_type_Postcard  \\\n",
       "0              0                   1                     0   \n",
       "1              0                   1                     0   \n",
       "2              0                   0                     1   \n",
       "3              0                   1                     0   \n",
       "4              0                   1                     0   \n",
       "\n",
       "   overdraft_protection_No  overdraft_protection_Yes  own_your_home_No  \\\n",
       "0                        1                         0                 1   \n",
       "1                        1                         0                 0   \n",
       "2                        1                         0                 0   \n",
       "3                        1                         0                 1   \n",
       "4                        1                         0                 0   \n",
       "\n",
       "   own_your_home_Yes  \n",
       "0                  0  \n",
       "1                  1  \n",
       "2                  1  \n",
       "3                  0  \n",
       "4                  1  "
      ]
     },
     "execution_count": 4,
     "metadata": {},
     "output_type": "execute_result"
    }
   ],
   "source": [
    "X = pd.read_csv(r'./../data/X.csv') # import the csv file using a relative path to the 'data' folder\n",
    "\n",
    "#X= X.drop(columns=['Unnamed: 0']) # drop index column\n",
    "\n",
    "X.head()"
   ]
  },
  {
   "cell_type": "code",
   "execution_count": 5,
   "id": "0e7530a1",
   "metadata": {},
   "outputs": [
    {
     "data": {
      "text/html": [
       "<div>\n",
       "<style scoped>\n",
       "    .dataframe tbody tr th:only-of-type {\n",
       "        vertical-align: middle;\n",
       "    }\n",
       "\n",
       "    .dataframe tbody tr th {\n",
       "        vertical-align: top;\n",
       "    }\n",
       "\n",
       "    .dataframe thead th {\n",
       "        text-align: right;\n",
       "    }\n",
       "</style>\n",
       "<table border=\"1\" class=\"dataframe\">\n",
       "  <thead>\n",
       "    <tr style=\"text-align: right;\">\n",
       "      <th></th>\n",
       "      <th>offer_accepted</th>\n",
       "    </tr>\n",
       "  </thead>\n",
       "  <tbody>\n",
       "    <tr>\n",
       "      <th>0</th>\n",
       "      <td>No</td>\n",
       "    </tr>\n",
       "    <tr>\n",
       "      <th>1</th>\n",
       "      <td>No</td>\n",
       "    </tr>\n",
       "    <tr>\n",
       "      <th>2</th>\n",
       "      <td>No</td>\n",
       "    </tr>\n",
       "    <tr>\n",
       "      <th>3</th>\n",
       "      <td>No</td>\n",
       "    </tr>\n",
       "    <tr>\n",
       "      <th>4</th>\n",
       "      <td>No</td>\n",
       "    </tr>\n",
       "  </tbody>\n",
       "</table>\n",
       "</div>"
      ],
      "text/plain": [
       "  offer_accepted\n",
       "0             No\n",
       "1             No\n",
       "2             No\n",
       "3             No\n",
       "4             No"
      ]
     },
     "execution_count": 5,
     "metadata": {},
     "output_type": "execute_result"
    }
   ],
   "source": [
    "y = pd.read_csv(r'./../data/y.csv') # import the csv file using a relative path to the 'data' folder\n",
    "#y= y.drop(columns=['Unnamed: 0']) # drop index column\n",
    "\n",
    "y.head()"
   ]
  },
  {
   "attachments": {},
   "cell_type": "markdown",
   "id": "ce9e8d70",
   "metadata": {},
   "source": [
    "### Examine the class label imbalance"
   ]
  },
  {
   "cell_type": "code",
   "execution_count": 6,
   "id": "253238c3",
   "metadata": {},
   "outputs": [
    {
     "data": {
      "text/html": [
       "<div>\n",
       "<style scoped>\n",
       "    .dataframe tbody tr th:only-of-type {\n",
       "        vertical-align: middle;\n",
       "    }\n",
       "\n",
       "    .dataframe tbody tr th {\n",
       "        vertical-align: top;\n",
       "    }\n",
       "\n",
       "    .dataframe thead th {\n",
       "        text-align: right;\n",
       "    }\n",
       "</style>\n",
       "<table border=\"1\" class=\"dataframe\">\n",
       "  <thead>\n",
       "    <tr style=\"text-align: right;\">\n",
       "      <th></th>\n",
       "      <th>n</th>\n",
       "      <th>%</th>\n",
       "    </tr>\n",
       "  </thead>\n",
       "  <tbody>\n",
       "    <tr>\n",
       "      <th>No</th>\n",
       "      <td>16955</td>\n",
       "      <td>0.943202</td>\n",
       "    </tr>\n",
       "    <tr>\n",
       "      <th>Yes</th>\n",
       "      <td>1021</td>\n",
       "      <td>0.056798</td>\n",
       "    </tr>\n",
       "  </tbody>\n",
       "</table>\n",
       "</div>"
      ],
      "text/plain": [
       "         n         %\n",
       "No   16955  0.943202\n",
       "Yes   1021  0.056798"
      ]
     },
     "execution_count": 6,
     "metadata": {},
     "output_type": "execute_result"
    }
   ],
   "source": [
    "## Count instances of the target variable \n",
    "#count frequencies\n",
    "counts = y['offer_accepted'].value_counts()\n",
    "##count and compute as percentage of total \n",
    "pct = y['offer_accepted'].value_counts(normalize=True)\n",
    "\n",
    "#concatenate results into one DataFrame\n",
    "pd.concat([counts,pct], axis=1, keys=['n', '%'])"
   ]
  },
  {
   "attachments": {},
   "cell_type": "markdown",
   "id": "d14789c2",
   "metadata": {},
   "source": [
    "Convert the 'Yes' and 'no' values to '1' and '0'"
   ]
  },
  {
   "cell_type": "code",
   "execution_count": 7,
   "id": "6be72150",
   "metadata": {},
   "outputs": [],
   "source": [
    "y['offer_accepted'] = y['offer_accepted'].replace({'No': 0, 'Yes': 1})"
   ]
  },
  {
   "cell_type": "code",
   "execution_count": 8,
   "id": "7331f129",
   "metadata": {},
   "outputs": [
    {
     "name": "stdout",
     "output_type": "stream",
     "text": [
      "Examples:\n",
      "    Total: 17976\n",
      "    Customers who accepted credit card offer: 1021 (5.68% of total customer base)\n",
      "\n"
     ]
    }
   ],
   "source": [
    "neg, pos = np.bincount(y['offer_accepted'])\n",
    "total = neg + pos\n",
    "\n",
    "print('Examples:\\n    Total: {}\\n    Customers who accepted credit card offer: {} ({:.2f}% of total customer base)\\n'.format(\n",
    "    total, pos, 100 * pos / total))"
   ]
  },
  {
   "attachments": {},
   "cell_type": "markdown",
   "id": "a4881f46",
   "metadata": {},
   "source": [
    "Before applying our machine learning model to improve the balance between 'Yes' and 'No', we need to scale the numerical variables. \n",
    "\n",
    "We'll be using standard scaler to remove the mean and unit variance."
   ]
  },
  {
   "cell_type": "code",
   "execution_count": 9,
   "id": "82fc3b1c",
   "metadata": {},
   "outputs": [
    {
     "data": {
      "text/html": [
       "<div>\n",
       "<style scoped>\n",
       "    .dataframe tbody tr th:only-of-type {\n",
       "        vertical-align: middle;\n",
       "    }\n",
       "\n",
       "    .dataframe tbody tr th {\n",
       "        vertical-align: top;\n",
       "    }\n",
       "\n",
       "    .dataframe thead th {\n",
       "        text-align: right;\n",
       "    }\n",
       "</style>\n",
       "<table border=\"1\" class=\"dataframe\">\n",
       "  <thead>\n",
       "    <tr style=\"text-align: right;\">\n",
       "      <th></th>\n",
       "      <th>bank_accounts_open</th>\n",
       "      <th>credit_cards_held</th>\n",
       "      <th>homes_owned</th>\n",
       "      <th>household_size</th>\n",
       "      <th>average_balance</th>\n",
       "      <th>q1_balance</th>\n",
       "      <th>q2_balance</th>\n",
       "      <th>q3_balance</th>\n",
       "      <th>q4_balance</th>\n",
       "      <th>income_level</th>\n",
       "      <th>credit_rating</th>\n",
       "      <th>reward_Air Miles</th>\n",
       "      <th>reward_Cash Back</th>\n",
       "      <th>reward_Points</th>\n",
       "      <th>mailer_type_Letter</th>\n",
       "      <th>mailer_type_Postcard</th>\n",
       "      <th>overdraft_protection_No</th>\n",
       "      <th>overdraft_protection_Yes</th>\n",
       "      <th>own_your_home_No</th>\n",
       "      <th>own_your_home_Yes</th>\n",
       "    </tr>\n",
       "  </thead>\n",
       "  <tbody>\n",
       "    <tr>\n",
       "      <th>0</th>\n",
       "      <td>-0.541352</td>\n",
       "      <td>0.121161</td>\n",
       "      <td>-0.476212</td>\n",
       "      <td>0.449452</td>\n",
       "      <td>0.628724</td>\n",
       "      <td>1.223349</td>\n",
       "      <td>-0.267589</td>\n",
       "      <td>0.095704</td>\n",
       "      <td>0.343147</td>\n",
       "      <td>1.410295</td>\n",
       "      <td>1.215460</td>\n",
       "      <td>1.404533</td>\n",
       "      <td>-0.707372</td>\n",
       "      <td>-0.70198</td>\n",
       "      <td>1.016378</td>\n",
       "      <td>-1.016378</td>\n",
       "      <td>0.418213</td>\n",
       "      <td>-0.418213</td>\n",
       "      <td>1.354744</td>\n",
       "      <td>-1.354744</td>\n",
       "    </tr>\n",
       "    <tr>\n",
       "      <th>1</th>\n",
       "      <td>-0.541352</td>\n",
       "      <td>0.121161</td>\n",
       "      <td>1.863330</td>\n",
       "      <td>1.346760</td>\n",
       "      <td>-2.264609</td>\n",
       "      <td>-1.405430</td>\n",
       "      <td>-1.953241</td>\n",
       "      <td>-1.741902</td>\n",
       "      <td>-0.794628</td>\n",
       "      <td>-0.005039</td>\n",
       "      <td>-0.007894</td>\n",
       "      <td>1.404533</td>\n",
       "      <td>-0.707372</td>\n",
       "      <td>-0.70198</td>\n",
       "      <td>1.016378</td>\n",
       "      <td>-1.016378</td>\n",
       "      <td>0.418213</td>\n",
       "      <td>-0.418213</td>\n",
       "      <td>-0.738147</td>\n",
       "      <td>0.738147</td>\n",
       "    </tr>\n",
       "    <tr>\n",
       "      <th>2</th>\n",
       "      <td>1.575537</td>\n",
       "      <td>0.121161</td>\n",
       "      <td>-0.476212</td>\n",
       "      <td>-1.345162</td>\n",
       "      <td>-1.895627</td>\n",
       "      <td>-0.876449</td>\n",
       "      <td>-1.415407</td>\n",
       "      <td>-1.620841</td>\n",
       "      <td>-1.016458</td>\n",
       "      <td>1.410295</td>\n",
       "      <td>-0.007894</td>\n",
       "      <td>1.404533</td>\n",
       "      <td>-0.707372</td>\n",
       "      <td>-0.70198</td>\n",
       "      <td>-0.983886</td>\n",
       "      <td>0.983886</td>\n",
       "      <td>0.418213</td>\n",
       "      <td>-0.418213</td>\n",
       "      <td>-0.738147</td>\n",
       "      <td>0.738147</td>\n",
       "    </tr>\n",
       "    <tr>\n",
       "      <th>3</th>\n",
       "      <td>1.575537</td>\n",
       "      <td>-1.133443</td>\n",
       "      <td>-0.476212</td>\n",
       "      <td>0.449452</td>\n",
       "      <td>0.795015</td>\n",
       "      <td>1.076589</td>\n",
       "      <td>1.662932</td>\n",
       "      <td>0.139070</td>\n",
       "      <td>-0.699813</td>\n",
       "      <td>-0.005039</td>\n",
       "      <td>1.215460</td>\n",
       "      <td>1.404533</td>\n",
       "      <td>-0.707372</td>\n",
       "      <td>-0.70198</td>\n",
       "      <td>1.016378</td>\n",
       "      <td>-1.016378</td>\n",
       "      <td>0.418213</td>\n",
       "      <td>-0.418213</td>\n",
       "      <td>1.354744</td>\n",
       "      <td>-1.354744</td>\n",
       "    </tr>\n",
       "    <tr>\n",
       "      <th>4</th>\n",
       "      <td>-0.541352</td>\n",
       "      <td>0.121161</td>\n",
       "      <td>-0.476212</td>\n",
       "      <td>2.244067</td>\n",
       "      <td>0.772177</td>\n",
       "      <td>1.982953</td>\n",
       "      <td>0.781845</td>\n",
       "      <td>-0.108474</td>\n",
       "      <td>-0.796417</td>\n",
       "      <td>-0.005039</td>\n",
       "      <td>-0.007894</td>\n",
       "      <td>1.404533</td>\n",
       "      <td>-0.707372</td>\n",
       "      <td>-0.70198</td>\n",
       "      <td>1.016378</td>\n",
       "      <td>-1.016378</td>\n",
       "      <td>0.418213</td>\n",
       "      <td>-0.418213</td>\n",
       "      <td>-0.738147</td>\n",
       "      <td>0.738147</td>\n",
       "    </tr>\n",
       "  </tbody>\n",
       "</table>\n",
       "</div>"
      ],
      "text/plain": [
       "   bank_accounts_open  credit_cards_held  homes_owned  household_size  \\\n",
       "0           -0.541352           0.121161    -0.476212        0.449452   \n",
       "1           -0.541352           0.121161     1.863330        1.346760   \n",
       "2            1.575537           0.121161    -0.476212       -1.345162   \n",
       "3            1.575537          -1.133443    -0.476212        0.449452   \n",
       "4           -0.541352           0.121161    -0.476212        2.244067   \n",
       "\n",
       "   average_balance  q1_balance  q2_balance  q3_balance  q4_balance  \\\n",
       "0         0.628724    1.223349   -0.267589    0.095704    0.343147   \n",
       "1        -2.264609   -1.405430   -1.953241   -1.741902   -0.794628   \n",
       "2        -1.895627   -0.876449   -1.415407   -1.620841   -1.016458   \n",
       "3         0.795015    1.076589    1.662932    0.139070   -0.699813   \n",
       "4         0.772177    1.982953    0.781845   -0.108474   -0.796417   \n",
       "\n",
       "   income_level  credit_rating  reward_Air Miles  reward_Cash Back  \\\n",
       "0      1.410295       1.215460          1.404533         -0.707372   \n",
       "1     -0.005039      -0.007894          1.404533         -0.707372   \n",
       "2      1.410295      -0.007894          1.404533         -0.707372   \n",
       "3     -0.005039       1.215460          1.404533         -0.707372   \n",
       "4     -0.005039      -0.007894          1.404533         -0.707372   \n",
       "\n",
       "   reward_Points  mailer_type_Letter  mailer_type_Postcard  \\\n",
       "0       -0.70198            1.016378             -1.016378   \n",
       "1       -0.70198            1.016378             -1.016378   \n",
       "2       -0.70198           -0.983886              0.983886   \n",
       "3       -0.70198            1.016378             -1.016378   \n",
       "4       -0.70198            1.016378             -1.016378   \n",
       "\n",
       "   overdraft_protection_No  overdraft_protection_Yes  own_your_home_No  \\\n",
       "0                 0.418213                 -0.418213          1.354744   \n",
       "1                 0.418213                 -0.418213         -0.738147   \n",
       "2                 0.418213                 -0.418213         -0.738147   \n",
       "3                 0.418213                 -0.418213          1.354744   \n",
       "4                 0.418213                 -0.418213         -0.738147   \n",
       "\n",
       "   own_your_home_Yes  \n",
       "0          -1.354744  \n",
       "1           0.738147  \n",
       "2           0.738147  \n",
       "3          -1.354744  \n",
       "4           0.738147  "
      ]
     },
     "execution_count": 9,
     "metadata": {},
     "output_type": "execute_result"
    }
   ],
   "source": [
    "independents = X.copy() # make a separate df to preserve the column headers\n",
    "\n",
    "transformer = StandardScaler().fit(independents)\n",
    "standard_x = transformer.transform(independents)\n",
    "X = pd.DataFrame(standard_x)\n",
    "X.columns = independents.columns # put the column headers back\n",
    "X.head()"
   ]
  },
  {
   "attachments": {},
   "cell_type": "markdown",
   "id": "b9504266",
   "metadata": {},
   "source": [
    "#### Optional:\n",
    "\n",
    "We can plot the data before and after to see if there are any differences."
   ]
  },
  {
   "cell_type": "code",
   "execution_count": 10,
   "id": "482a146a",
   "metadata": {},
   "outputs": [
    {
     "data": {
      "text/plain": [
       "<seaborn.axisgrid.PairGrid at 0x1795c8290>"
      ]
     },
     "execution_count": 10,
     "metadata": {},
     "output_type": "execute_result"
    },
    {
     "name": "stdout",
     "output_type": "stream",
     "text": [
      "Error in callback <function flush_figures at 0x117afb100> (for post_execute):\n"
     ]
    },
    {
     "ename": "KeyboardInterrupt",
     "evalue": "",
     "output_type": "error",
     "traceback": [
      "\u001b[0;31m---------------------------------------------------------------------------\u001b[0m",
      "\u001b[0;31mKeyboardInterrupt\u001b[0m                         Traceback (most recent call last)",
      "File \u001b[0;32m/Library/Frameworks/Python.framework/Versions/3.11/lib/python3.11/site-packages/matplotlib_inline/backend_inline.py:126\u001b[0m, in \u001b[0;36mflush_figures\u001b[0;34m()\u001b[0m\n\u001b[1;32m    123\u001b[0m \u001b[39mif\u001b[39;00m InlineBackend\u001b[39m.\u001b[39minstance()\u001b[39m.\u001b[39mclose_figures:\n\u001b[1;32m    124\u001b[0m     \u001b[39m# ignore the tracking, just draw and close all figures\u001b[39;00m\n\u001b[1;32m    125\u001b[0m     \u001b[39mtry\u001b[39;00m:\n\u001b[0;32m--> 126\u001b[0m         \u001b[39mreturn\u001b[39;00m show(\u001b[39mTrue\u001b[39;49;00m)\n\u001b[1;32m    127\u001b[0m     \u001b[39mexcept\u001b[39;00m \u001b[39mException\u001b[39;00m \u001b[39mas\u001b[39;00m e:\n\u001b[1;32m    128\u001b[0m         \u001b[39m# safely show traceback if in IPython, else raise\u001b[39;00m\n\u001b[1;32m    129\u001b[0m         ip \u001b[39m=\u001b[39m get_ipython()\n",
      "File \u001b[0;32m/Library/Frameworks/Python.framework/Versions/3.11/lib/python3.11/site-packages/matplotlib_inline/backend_inline.py:90\u001b[0m, in \u001b[0;36mshow\u001b[0;34m(close, block)\u001b[0m\n\u001b[1;32m     88\u001b[0m \u001b[39mtry\u001b[39;00m:\n\u001b[1;32m     89\u001b[0m     \u001b[39mfor\u001b[39;00m figure_manager \u001b[39min\u001b[39;00m Gcf\u001b[39m.\u001b[39mget_all_fig_managers():\n\u001b[0;32m---> 90\u001b[0m         display(\n\u001b[1;32m     91\u001b[0m             figure_manager\u001b[39m.\u001b[39;49mcanvas\u001b[39m.\u001b[39;49mfigure,\n\u001b[1;32m     92\u001b[0m             metadata\u001b[39m=\u001b[39;49m_fetch_figure_metadata(figure_manager\u001b[39m.\u001b[39;49mcanvas\u001b[39m.\u001b[39;49mfigure)\n\u001b[1;32m     93\u001b[0m         )\n\u001b[1;32m     94\u001b[0m \u001b[39mfinally\u001b[39;00m:\n\u001b[1;32m     95\u001b[0m     show\u001b[39m.\u001b[39m_to_draw \u001b[39m=\u001b[39m []\n",
      "File \u001b[0;32m/Library/Frameworks/Python.framework/Versions/3.11/lib/python3.11/site-packages/IPython/core/display_functions.py:298\u001b[0m, in \u001b[0;36mdisplay\u001b[0;34m(include, exclude, metadata, transient, display_id, raw, clear, *objs, **kwargs)\u001b[0m\n\u001b[1;32m    296\u001b[0m     publish_display_data(data\u001b[39m=\u001b[39mobj, metadata\u001b[39m=\u001b[39mmetadata, \u001b[39m*\u001b[39m\u001b[39m*\u001b[39mkwargs)\n\u001b[1;32m    297\u001b[0m \u001b[39melse\u001b[39;00m:\n\u001b[0;32m--> 298\u001b[0m     format_dict, md_dict \u001b[39m=\u001b[39m \u001b[39mformat\u001b[39;49m(obj, include\u001b[39m=\u001b[39;49minclude, exclude\u001b[39m=\u001b[39;49mexclude)\n\u001b[1;32m    299\u001b[0m     \u001b[39mif\u001b[39;00m \u001b[39mnot\u001b[39;00m format_dict:\n\u001b[1;32m    300\u001b[0m         \u001b[39m# nothing to display (e.g. _ipython_display_ took over)\u001b[39;00m\n\u001b[1;32m    301\u001b[0m         \u001b[39mcontinue\u001b[39;00m\n",
      "File \u001b[0;32m/Library/Frameworks/Python.framework/Versions/3.11/lib/python3.11/site-packages/IPython/core/formatters.py:177\u001b[0m, in \u001b[0;36mDisplayFormatter.format\u001b[0;34m(self, obj, include, exclude)\u001b[0m\n\u001b[1;32m    175\u001b[0m md \u001b[39m=\u001b[39m \u001b[39mNone\u001b[39;00m\n\u001b[1;32m    176\u001b[0m \u001b[39mtry\u001b[39;00m:\n\u001b[0;32m--> 177\u001b[0m     data \u001b[39m=\u001b[39m formatter(obj)\n\u001b[1;32m    178\u001b[0m \u001b[39mexcept\u001b[39;00m:\n\u001b[1;32m    179\u001b[0m     \u001b[39m# FIXME: log the exception\u001b[39;00m\n\u001b[1;32m    180\u001b[0m     \u001b[39mraise\u001b[39;00m\n",
      "File \u001b[0;32m/Library/Frameworks/Python.framework/Versions/3.11/lib/python3.11/site-packages/decorator.py:232\u001b[0m, in \u001b[0;36mdecorate.<locals>.fun\u001b[0;34m(*args, **kw)\u001b[0m\n\u001b[1;32m    230\u001b[0m \u001b[39mif\u001b[39;00m \u001b[39mnot\u001b[39;00m kwsyntax:\n\u001b[1;32m    231\u001b[0m     args, kw \u001b[39m=\u001b[39m fix(args, kw, sig)\n\u001b[0;32m--> 232\u001b[0m \u001b[39mreturn\u001b[39;00m caller(func, \u001b[39m*\u001b[39;49m(extras \u001b[39m+\u001b[39;49m args), \u001b[39m*\u001b[39;49m\u001b[39m*\u001b[39;49mkw)\n",
      "File \u001b[0;32m/Library/Frameworks/Python.framework/Versions/3.11/lib/python3.11/site-packages/IPython/core/formatters.py:221\u001b[0m, in \u001b[0;36mcatch_format_error\u001b[0;34m(method, self, *args, **kwargs)\u001b[0m\n\u001b[1;32m    219\u001b[0m \u001b[39m\u001b[39m\u001b[39m\"\"\"show traceback on failed format call\"\"\"\u001b[39;00m\n\u001b[1;32m    220\u001b[0m \u001b[39mtry\u001b[39;00m:\n\u001b[0;32m--> 221\u001b[0m     r \u001b[39m=\u001b[39m method(\u001b[39mself\u001b[39;49m, \u001b[39m*\u001b[39;49margs, \u001b[39m*\u001b[39;49m\u001b[39m*\u001b[39;49mkwargs)\n\u001b[1;32m    222\u001b[0m \u001b[39mexcept\u001b[39;00m \u001b[39mNotImplementedError\u001b[39;00m:\n\u001b[1;32m    223\u001b[0m     \u001b[39m# don't warn on NotImplementedErrors\u001b[39;00m\n\u001b[1;32m    224\u001b[0m     \u001b[39mreturn\u001b[39;00m \u001b[39mself\u001b[39m\u001b[39m.\u001b[39m_check_return(\u001b[39mNone\u001b[39;00m, args[\u001b[39m0\u001b[39m])\n",
      "File \u001b[0;32m/Library/Frameworks/Python.framework/Versions/3.11/lib/python3.11/site-packages/IPython/core/formatters.py:338\u001b[0m, in \u001b[0;36mBaseFormatter.__call__\u001b[0;34m(self, obj)\u001b[0m\n\u001b[1;32m    336\u001b[0m     \u001b[39mpass\u001b[39;00m\n\u001b[1;32m    337\u001b[0m \u001b[39melse\u001b[39;00m:\n\u001b[0;32m--> 338\u001b[0m     \u001b[39mreturn\u001b[39;00m printer(obj)\n\u001b[1;32m    339\u001b[0m \u001b[39m# Finally look for special method names\u001b[39;00m\n\u001b[1;32m    340\u001b[0m method \u001b[39m=\u001b[39m get_real_method(obj, \u001b[39mself\u001b[39m\u001b[39m.\u001b[39mprint_method)\n",
      "File \u001b[0;32m/Library/Frameworks/Python.framework/Versions/3.11/lib/python3.11/site-packages/IPython/core/pylabtools.py:152\u001b[0m, in \u001b[0;36mprint_figure\u001b[0;34m(fig, fmt, bbox_inches, base64, **kwargs)\u001b[0m\n\u001b[1;32m    149\u001b[0m     \u001b[39mfrom\u001b[39;00m \u001b[39mmatplotlib\u001b[39;00m\u001b[39m.\u001b[39;00m\u001b[39mbackend_bases\u001b[39;00m \u001b[39mimport\u001b[39;00m FigureCanvasBase\n\u001b[1;32m    150\u001b[0m     FigureCanvasBase(fig)\n\u001b[0;32m--> 152\u001b[0m fig\u001b[39m.\u001b[39;49mcanvas\u001b[39m.\u001b[39;49mprint_figure(bytes_io, \u001b[39m*\u001b[39;49m\u001b[39m*\u001b[39;49mkw)\n\u001b[1;32m    153\u001b[0m data \u001b[39m=\u001b[39m bytes_io\u001b[39m.\u001b[39mgetvalue()\n\u001b[1;32m    154\u001b[0m \u001b[39mif\u001b[39;00m fmt \u001b[39m==\u001b[39m \u001b[39m'\u001b[39m\u001b[39msvg\u001b[39m\u001b[39m'\u001b[39m:\n",
      "File \u001b[0;32m/Library/Frameworks/Python.framework/Versions/3.11/lib/python3.11/site-packages/matplotlib/backend_bases.py:2314\u001b[0m, in \u001b[0;36mFigureCanvasBase.print_figure\u001b[0;34m(self, filename, dpi, facecolor, edgecolor, orientation, format, bbox_inches, pad_inches, bbox_extra_artists, backend, **kwargs)\u001b[0m\n\u001b[1;32m   2308\u001b[0m     renderer \u001b[39m=\u001b[39m _get_renderer(\n\u001b[1;32m   2309\u001b[0m         \u001b[39mself\u001b[39m\u001b[39m.\u001b[39mfigure,\n\u001b[1;32m   2310\u001b[0m         functools\u001b[39m.\u001b[39mpartial(\n\u001b[1;32m   2311\u001b[0m             print_method, orientation\u001b[39m=\u001b[39morientation)\n\u001b[1;32m   2312\u001b[0m     )\n\u001b[1;32m   2313\u001b[0m     \u001b[39mwith\u001b[39;00m \u001b[39mgetattr\u001b[39m(renderer, \u001b[39m\"\u001b[39m\u001b[39m_draw_disabled\u001b[39m\u001b[39m\"\u001b[39m, nullcontext)():\n\u001b[0;32m-> 2314\u001b[0m         \u001b[39mself\u001b[39;49m\u001b[39m.\u001b[39;49mfigure\u001b[39m.\u001b[39;49mdraw(renderer)\n\u001b[1;32m   2316\u001b[0m \u001b[39mif\u001b[39;00m bbox_inches:\n\u001b[1;32m   2317\u001b[0m     \u001b[39mif\u001b[39;00m bbox_inches \u001b[39m==\u001b[39m \u001b[39m\"\u001b[39m\u001b[39mtight\u001b[39m\u001b[39m\"\u001b[39m:\n",
      "File \u001b[0;32m/Library/Frameworks/Python.framework/Versions/3.11/lib/python3.11/site-packages/matplotlib/artist.py:74\u001b[0m, in \u001b[0;36m_finalize_rasterization.<locals>.draw_wrapper\u001b[0;34m(artist, renderer, *args, **kwargs)\u001b[0m\n\u001b[1;32m     72\u001b[0m \u001b[39m@wraps\u001b[39m(draw)\n\u001b[1;32m     73\u001b[0m \u001b[39mdef\u001b[39;00m \u001b[39mdraw_wrapper\u001b[39m(artist, renderer, \u001b[39m*\u001b[39margs, \u001b[39m*\u001b[39m\u001b[39m*\u001b[39mkwargs):\n\u001b[0;32m---> 74\u001b[0m     result \u001b[39m=\u001b[39m draw(artist, renderer, \u001b[39m*\u001b[39;49margs, \u001b[39m*\u001b[39;49m\u001b[39m*\u001b[39;49mkwargs)\n\u001b[1;32m     75\u001b[0m     \u001b[39mif\u001b[39;00m renderer\u001b[39m.\u001b[39m_rasterizing:\n\u001b[1;32m     76\u001b[0m         renderer\u001b[39m.\u001b[39mstop_rasterizing()\n",
      "File \u001b[0;32m/Library/Frameworks/Python.framework/Versions/3.11/lib/python3.11/site-packages/matplotlib/artist.py:51\u001b[0m, in \u001b[0;36mallow_rasterization.<locals>.draw_wrapper\u001b[0;34m(artist, renderer)\u001b[0m\n\u001b[1;32m     48\u001b[0m     \u001b[39mif\u001b[39;00m artist\u001b[39m.\u001b[39mget_agg_filter() \u001b[39mis\u001b[39;00m \u001b[39mnot\u001b[39;00m \u001b[39mNone\u001b[39;00m:\n\u001b[1;32m     49\u001b[0m         renderer\u001b[39m.\u001b[39mstart_filter()\n\u001b[0;32m---> 51\u001b[0m     \u001b[39mreturn\u001b[39;00m draw(artist, renderer)\n\u001b[1;32m     52\u001b[0m \u001b[39mfinally\u001b[39;00m:\n\u001b[1;32m     53\u001b[0m     \u001b[39mif\u001b[39;00m artist\u001b[39m.\u001b[39mget_agg_filter() \u001b[39mis\u001b[39;00m \u001b[39mnot\u001b[39;00m \u001b[39mNone\u001b[39;00m:\n",
      "File \u001b[0;32m/Library/Frameworks/Python.framework/Versions/3.11/lib/python3.11/site-packages/matplotlib/figure.py:3082\u001b[0m, in \u001b[0;36mFigure.draw\u001b[0;34m(self, renderer)\u001b[0m\n\u001b[1;32m   3079\u001b[0m         \u001b[39m# ValueError can occur when resizing a window.\u001b[39;00m\n\u001b[1;32m   3081\u001b[0m \u001b[39mself\u001b[39m\u001b[39m.\u001b[39mpatch\u001b[39m.\u001b[39mdraw(renderer)\n\u001b[0;32m-> 3082\u001b[0m mimage\u001b[39m.\u001b[39;49m_draw_list_compositing_images(\n\u001b[1;32m   3083\u001b[0m     renderer, \u001b[39mself\u001b[39;49m, artists, \u001b[39mself\u001b[39;49m\u001b[39m.\u001b[39;49msuppressComposite)\n\u001b[1;32m   3085\u001b[0m \u001b[39mfor\u001b[39;00m sfig \u001b[39min\u001b[39;00m \u001b[39mself\u001b[39m\u001b[39m.\u001b[39msubfigs:\n\u001b[1;32m   3086\u001b[0m     sfig\u001b[39m.\u001b[39mdraw(renderer)\n",
      "File \u001b[0;32m/Library/Frameworks/Python.framework/Versions/3.11/lib/python3.11/site-packages/matplotlib/image.py:131\u001b[0m, in \u001b[0;36m_draw_list_compositing_images\u001b[0;34m(renderer, parent, artists, suppress_composite)\u001b[0m\n\u001b[1;32m    129\u001b[0m \u001b[39mif\u001b[39;00m not_composite \u001b[39mor\u001b[39;00m \u001b[39mnot\u001b[39;00m has_images:\n\u001b[1;32m    130\u001b[0m     \u001b[39mfor\u001b[39;00m a \u001b[39min\u001b[39;00m artists:\n\u001b[0;32m--> 131\u001b[0m         a\u001b[39m.\u001b[39;49mdraw(renderer)\n\u001b[1;32m    132\u001b[0m \u001b[39melse\u001b[39;00m:\n\u001b[1;32m    133\u001b[0m     \u001b[39m# Composite any adjacent images together\u001b[39;00m\n\u001b[1;32m    134\u001b[0m     image_group \u001b[39m=\u001b[39m []\n",
      "File \u001b[0;32m/Library/Frameworks/Python.framework/Versions/3.11/lib/python3.11/site-packages/matplotlib/artist.py:51\u001b[0m, in \u001b[0;36mallow_rasterization.<locals>.draw_wrapper\u001b[0;34m(artist, renderer)\u001b[0m\n\u001b[1;32m     48\u001b[0m     \u001b[39mif\u001b[39;00m artist\u001b[39m.\u001b[39mget_agg_filter() \u001b[39mis\u001b[39;00m \u001b[39mnot\u001b[39;00m \u001b[39mNone\u001b[39;00m:\n\u001b[1;32m     49\u001b[0m         renderer\u001b[39m.\u001b[39mstart_filter()\n\u001b[0;32m---> 51\u001b[0m     \u001b[39mreturn\u001b[39;00m draw(artist, renderer)\n\u001b[1;32m     52\u001b[0m \u001b[39mfinally\u001b[39;00m:\n\u001b[1;32m     53\u001b[0m     \u001b[39mif\u001b[39;00m artist\u001b[39m.\u001b[39mget_agg_filter() \u001b[39mis\u001b[39;00m \u001b[39mnot\u001b[39;00m \u001b[39mNone\u001b[39;00m:\n",
      "File \u001b[0;32m/Library/Frameworks/Python.framework/Versions/3.11/lib/python3.11/site-packages/matplotlib/axes/_base.py:3064\u001b[0m, in \u001b[0;36m_AxesBase.draw\u001b[0;34m(self, renderer)\u001b[0m\n\u001b[1;32m   3061\u001b[0m     \u001b[39mfor\u001b[39;00m spine \u001b[39min\u001b[39;00m \u001b[39mself\u001b[39m\u001b[39m.\u001b[39mspines\u001b[39m.\u001b[39mvalues():\n\u001b[1;32m   3062\u001b[0m         artists\u001b[39m.\u001b[39mremove(spine)\n\u001b[0;32m-> 3064\u001b[0m \u001b[39mself\u001b[39;49m\u001b[39m.\u001b[39;49m_update_title_position(renderer)\n\u001b[1;32m   3066\u001b[0m \u001b[39mif\u001b[39;00m \u001b[39mnot\u001b[39;00m \u001b[39mself\u001b[39m\u001b[39m.\u001b[39maxison:\n\u001b[1;32m   3067\u001b[0m     \u001b[39mfor\u001b[39;00m _axis \u001b[39min\u001b[39;00m \u001b[39mself\u001b[39m\u001b[39m.\u001b[39m_axis_map\u001b[39m.\u001b[39mvalues():\n",
      "File \u001b[0;32m/Library/Frameworks/Python.framework/Versions/3.11/lib/python3.11/site-packages/matplotlib/axes/_base.py:2999\u001b[0m, in \u001b[0;36m_AxesBase._update_title_position\u001b[0;34m(self, renderer)\u001b[0m\n\u001b[1;32m   2996\u001b[0m bb \u001b[39m=\u001b[39m \u001b[39mNone\u001b[39;00m\n\u001b[1;32m   2997\u001b[0m \u001b[39mif\u001b[39;00m (ax\u001b[39m.\u001b[39mxaxis\u001b[39m.\u001b[39mget_ticks_position() \u001b[39min\u001b[39;00m [\u001b[39m'\u001b[39m\u001b[39mtop\u001b[39m\u001b[39m'\u001b[39m, \u001b[39m'\u001b[39m\u001b[39munknown\u001b[39m\u001b[39m'\u001b[39m]\n\u001b[1;32m   2998\u001b[0m         \u001b[39mor\u001b[39;00m ax\u001b[39m.\u001b[39mxaxis\u001b[39m.\u001b[39mget_label_position() \u001b[39m==\u001b[39m \u001b[39m'\u001b[39m\u001b[39mtop\u001b[39m\u001b[39m'\u001b[39m):\n\u001b[0;32m-> 2999\u001b[0m     bb \u001b[39m=\u001b[39m ax\u001b[39m.\u001b[39;49mxaxis\u001b[39m.\u001b[39;49mget_tightbbox(renderer)\n\u001b[1;32m   3000\u001b[0m \u001b[39mif\u001b[39;00m bb \u001b[39mis\u001b[39;00m \u001b[39mNone\u001b[39;00m:\n\u001b[1;32m   3001\u001b[0m     \u001b[39mif\u001b[39;00m \u001b[39m'\u001b[39m\u001b[39moutline\u001b[39m\u001b[39m'\u001b[39m \u001b[39min\u001b[39;00m ax\u001b[39m.\u001b[39mspines:\n\u001b[1;32m   3002\u001b[0m         \u001b[39m# Special case for colorbars:\u001b[39;00m\n",
      "File \u001b[0;32m/Library/Frameworks/Python.framework/Versions/3.11/lib/python3.11/site-packages/matplotlib/axis.py:1253\u001b[0m, in \u001b[0;36mAxis.get_tightbbox\u001b[0;34m(self, renderer, for_layout_only)\u001b[0m\n\u001b[1;32m   1250\u001b[0m     renderer \u001b[39m=\u001b[39m \u001b[39mself\u001b[39m\u001b[39m.\u001b[39mfigure\u001b[39m.\u001b[39m_get_renderer()\n\u001b[1;32m   1251\u001b[0m ticks_to_draw \u001b[39m=\u001b[39m \u001b[39mself\u001b[39m\u001b[39m.\u001b[39m_update_ticks()\n\u001b[0;32m-> 1253\u001b[0m \u001b[39mself\u001b[39;49m\u001b[39m.\u001b[39;49m_update_label_position(renderer)\n\u001b[1;32m   1255\u001b[0m \u001b[39m# go back to just this axis's tick labels\u001b[39;00m\n\u001b[1;32m   1256\u001b[0m tlb1, tlb2 \u001b[39m=\u001b[39m \u001b[39mself\u001b[39m\u001b[39m.\u001b[39m_get_ticklabel_bboxes(ticks_to_draw, renderer)\n",
      "File \u001b[0;32m/Library/Frameworks/Python.framework/Versions/3.11/lib/python3.11/site-packages/matplotlib/axis.py:2258\u001b[0m, in \u001b[0;36mXAxis._update_label_position\u001b[0;34m(self, renderer)\u001b[0m\n\u001b[1;32m   2256\u001b[0m \u001b[39mtry\u001b[39;00m:\n\u001b[1;32m   2257\u001b[0m     spine \u001b[39m=\u001b[39m \u001b[39mself\u001b[39m\u001b[39m.\u001b[39maxes\u001b[39m.\u001b[39mspines[\u001b[39m'\u001b[39m\u001b[39mbottom\u001b[39m\u001b[39m'\u001b[39m]\n\u001b[0;32m-> 2258\u001b[0m     spinebbox \u001b[39m=\u001b[39m spine\u001b[39m.\u001b[39;49mget_window_extent()\n\u001b[1;32m   2259\u001b[0m \u001b[39mexcept\u001b[39;00m \u001b[39mKeyError\u001b[39;00m:\n\u001b[1;32m   2260\u001b[0m     \u001b[39m# use Axes if spine doesn't exist\u001b[39;00m\n\u001b[1;32m   2261\u001b[0m     spinebbox \u001b[39m=\u001b[39m \u001b[39mself\u001b[39m\u001b[39m.\u001b[39maxes\u001b[39m.\u001b[39mbbox\n",
      "File \u001b[0;32m/Library/Frameworks/Python.framework/Versions/3.11/lib/python3.11/site-packages/matplotlib/spines.py:153\u001b[0m, in \u001b[0;36mSpine.get_window_extent\u001b[0;34m(self, renderer)\u001b[0m\n\u001b[1;32m    143\u001b[0m \u001b[39m\u001b[39m\u001b[39m\"\"\"\u001b[39;00m\n\u001b[1;32m    144\u001b[0m \u001b[39mReturn the window extent of the spines in display space, including\u001b[39;00m\n\u001b[1;32m    145\u001b[0m \u001b[39mpadding for ticks (but not their labels)\u001b[39;00m\n\u001b[0;32m   (...)\u001b[0m\n\u001b[1;32m    150\u001b[0m \u001b[39mmatplotlib.axes.Axes.get_window_extent\u001b[39;00m\n\u001b[1;32m    151\u001b[0m \u001b[39m\"\"\"\u001b[39;00m\n\u001b[1;32m    152\u001b[0m \u001b[39m# make sure the location is updated so that transforms etc are correct:\u001b[39;00m\n\u001b[0;32m--> 153\u001b[0m \u001b[39mself\u001b[39;49m\u001b[39m.\u001b[39;49m_adjust_location()\n\u001b[1;32m    154\u001b[0m bb \u001b[39m=\u001b[39m \u001b[39msuper\u001b[39m()\u001b[39m.\u001b[39mget_window_extent(renderer\u001b[39m=\u001b[39mrenderer)\n\u001b[1;32m    155\u001b[0m \u001b[39mif\u001b[39;00m \u001b[39mself\u001b[39m\u001b[39m.\u001b[39maxis \u001b[39mis\u001b[39;00m \u001b[39mNone\u001b[39;00m:\n",
      "File \u001b[0;32m/Library/Frameworks/Python.framework/Versions/3.11/lib/python3.11/site-packages/matplotlib/spines.py:237\u001b[0m, in \u001b[0;36mSpine._adjust_location\u001b[0;34m(self)\u001b[0m\n\u001b[1;32m    235\u001b[0m     low, high \u001b[39m=\u001b[39m \u001b[39mself\u001b[39m\u001b[39m.\u001b[39maxes\u001b[39m.\u001b[39mviewLim\u001b[39m.\u001b[39mintervaly\n\u001b[1;32m    236\u001b[0m \u001b[39melif\u001b[39;00m \u001b[39mself\u001b[39m\u001b[39m.\u001b[39mspine_type \u001b[39min\u001b[39;00m (\u001b[39m'\u001b[39m\u001b[39mtop\u001b[39m\u001b[39m'\u001b[39m, \u001b[39m'\u001b[39m\u001b[39mbottom\u001b[39m\u001b[39m'\u001b[39m):\n\u001b[0;32m--> 237\u001b[0m     low, high \u001b[39m=\u001b[39m \u001b[39mself\u001b[39;49m\u001b[39m.\u001b[39;49maxes\u001b[39m.\u001b[39;49mviewLim\u001b[39m.\u001b[39mintervalx\n\u001b[1;32m    238\u001b[0m \u001b[39melse\u001b[39;00m:\n\u001b[1;32m    239\u001b[0m     \u001b[39mraise\u001b[39;00m \u001b[39mValueError\u001b[39;00m(\u001b[39mf\u001b[39m\u001b[39m'\u001b[39m\u001b[39munknown spine spine_type: \u001b[39m\u001b[39m{\u001b[39;00m\u001b[39mself\u001b[39m\u001b[39m.\u001b[39mspine_type\u001b[39m}\u001b[39;00m\u001b[39m'\u001b[39m)\n",
      "File \u001b[0;32m/Library/Frameworks/Python.framework/Versions/3.11/lib/python3.11/site-packages/matplotlib/axes/_base.py:815\u001b[0m, in \u001b[0;36m_AxesBase.viewLim\u001b[0;34m(self)\u001b[0m\n\u001b[1;32m    813\u001b[0m \u001b[39m@property\u001b[39m\n\u001b[1;32m    814\u001b[0m \u001b[39mdef\u001b[39;00m \u001b[39mviewLim\u001b[39m(\u001b[39mself\u001b[39m):\n\u001b[0;32m--> 815\u001b[0m     \u001b[39mself\u001b[39;49m\u001b[39m.\u001b[39;49m_unstale_viewLim()\n\u001b[1;32m    816\u001b[0m     \u001b[39mreturn\u001b[39;00m \u001b[39mself\u001b[39m\u001b[39m.\u001b[39m_viewLim\n",
      "File \u001b[0;32m/Library/Frameworks/Python.framework/Versions/3.11/lib/python3.11/site-packages/matplotlib/axes/_base.py:802\u001b[0m, in \u001b[0;36m_AxesBase._unstale_viewLim\u001b[0;34m(self)\u001b[0m\n\u001b[1;32m    799\u001b[0m \u001b[39mdef\u001b[39;00m \u001b[39m_unstale_viewLim\u001b[39m(\u001b[39mself\u001b[39m):\n\u001b[1;32m    800\u001b[0m     \u001b[39m# We should arrange to store this information once per share-group\u001b[39;00m\n\u001b[1;32m    801\u001b[0m     \u001b[39m# instead of on every axis.\u001b[39;00m\n\u001b[0;32m--> 802\u001b[0m     need_scale \u001b[39m=\u001b[39m {\n\u001b[1;32m    803\u001b[0m         name: \u001b[39many\u001b[39;49m(ax\u001b[39m.\u001b[39;49m_stale_viewlims[name]\n\u001b[1;32m    804\u001b[0m                   \u001b[39mfor\u001b[39;49;00m ax \u001b[39min\u001b[39;49;00m \u001b[39mself\u001b[39;49m\u001b[39m.\u001b[39;49m_shared_axes[name]\u001b[39m.\u001b[39;49mget_siblings(\u001b[39mself\u001b[39;49m))\n\u001b[1;32m    805\u001b[0m         \u001b[39mfor\u001b[39;49;00m name \u001b[39min\u001b[39;49;00m \u001b[39mself\u001b[39;49m\u001b[39m.\u001b[39;49m_axis_names}\n\u001b[1;32m    806\u001b[0m     \u001b[39mif\u001b[39;00m \u001b[39many\u001b[39m(need_scale\u001b[39m.\u001b[39mvalues()):\n\u001b[1;32m    807\u001b[0m         \u001b[39mfor\u001b[39;00m name \u001b[39min\u001b[39;00m need_scale:\n",
      "File \u001b[0;32m/Library/Frameworks/Python.framework/Versions/3.11/lib/python3.11/site-packages/matplotlib/axes/_base.py:804\u001b[0m, in \u001b[0;36m<dictcomp>\u001b[0;34m(.0)\u001b[0m\n\u001b[1;32m    799\u001b[0m \u001b[39mdef\u001b[39;00m \u001b[39m_unstale_viewLim\u001b[39m(\u001b[39mself\u001b[39m):\n\u001b[1;32m    800\u001b[0m     \u001b[39m# We should arrange to store this information once per share-group\u001b[39;00m\n\u001b[1;32m    801\u001b[0m     \u001b[39m# instead of on every axis.\u001b[39;00m\n\u001b[1;32m    802\u001b[0m     need_scale \u001b[39m=\u001b[39m {\n\u001b[1;32m    803\u001b[0m         name: \u001b[39many\u001b[39m(ax\u001b[39m.\u001b[39m_stale_viewlims[name]\n\u001b[0;32m--> 804\u001b[0m                   \u001b[39mfor\u001b[39;00m ax \u001b[39min\u001b[39;00m \u001b[39mself\u001b[39;49m\u001b[39m.\u001b[39;49m_shared_axes[name]\u001b[39m.\u001b[39;49mget_siblings(\u001b[39mself\u001b[39;49m))\n\u001b[1;32m    805\u001b[0m         \u001b[39mfor\u001b[39;00m name \u001b[39min\u001b[39;00m \u001b[39mself\u001b[39m\u001b[39m.\u001b[39m_axis_names}\n\u001b[1;32m    806\u001b[0m     \u001b[39mif\u001b[39;00m \u001b[39many\u001b[39m(need_scale\u001b[39m.\u001b[39mvalues()):\n\u001b[1;32m    807\u001b[0m         \u001b[39mfor\u001b[39;00m name \u001b[39min\u001b[39;00m need_scale:\n",
      "File \u001b[0;32m/Library/Frameworks/Python.framework/Versions/3.11/lib/python3.11/site-packages/matplotlib/cbook/__init__.py:916\u001b[0m, in \u001b[0;36mGrouper.get_siblings\u001b[0;34m(self, a)\u001b[0m\n\u001b[1;32m    914\u001b[0m \u001b[39mdef\u001b[39;00m \u001b[39mget_siblings\u001b[39m(\u001b[39mself\u001b[39m, a):\n\u001b[1;32m    915\u001b[0m \u001b[39m    \u001b[39m\u001b[39m\"\"\"Return all of the items joined with *a*, including itself.\"\"\"\u001b[39;00m\n\u001b[0;32m--> 916\u001b[0m     \u001b[39mself\u001b[39;49m\u001b[39m.\u001b[39;49mclean()\n\u001b[1;32m    917\u001b[0m     siblings \u001b[39m=\u001b[39m \u001b[39mself\u001b[39m\u001b[39m.\u001b[39m_mapping\u001b[39m.\u001b[39mget(weakref\u001b[39m.\u001b[39mref(a), [weakref\u001b[39m.\u001b[39mref(a)])\n\u001b[1;32m    918\u001b[0m     \u001b[39mreturn\u001b[39;00m [x() \u001b[39mfor\u001b[39;00m x \u001b[39min\u001b[39;00m siblings]\n",
      "File \u001b[0;32m/Library/Frameworks/Python.framework/Versions/3.11/lib/python3.11/site-packages/matplotlib/cbook/__init__.py:868\u001b[0m, in \u001b[0;36mGrouper.clean\u001b[0;34m(self)\u001b[0m\n\u001b[1;32m    866\u001b[0m \u001b[39m\u001b[39m\u001b[39m\"\"\"Clean dead weak references from the dictionary.\"\"\"\u001b[39;00m\n\u001b[1;32m    867\u001b[0m mapping \u001b[39m=\u001b[39m \u001b[39mself\u001b[39m\u001b[39m.\u001b[39m_mapping\n\u001b[0;32m--> 868\u001b[0m to_drop \u001b[39m=\u001b[39m [key \u001b[39mfor\u001b[39;49;00m key \u001b[39min\u001b[39;49;00m mapping \u001b[39mif\u001b[39;49;00m key() \u001b[39mis\u001b[39;49;00m \u001b[39mNone\u001b[39;49;00m]\n\u001b[1;32m    869\u001b[0m \u001b[39mfor\u001b[39;00m key \u001b[39min\u001b[39;00m to_drop:\n\u001b[1;32m    870\u001b[0m     val \u001b[39m=\u001b[39m mapping\u001b[39m.\u001b[39mpop(key)\n",
      "File \u001b[0;32m/Library/Frameworks/Python.framework/Versions/3.11/lib/python3.11/site-packages/matplotlib/cbook/__init__.py:868\u001b[0m, in \u001b[0;36m<listcomp>\u001b[0;34m(.0)\u001b[0m\n\u001b[1;32m    866\u001b[0m \u001b[39m\u001b[39m\u001b[39m\"\"\"Clean dead weak references from the dictionary.\"\"\"\u001b[39;00m\n\u001b[1;32m    867\u001b[0m mapping \u001b[39m=\u001b[39m \u001b[39mself\u001b[39m\u001b[39m.\u001b[39m_mapping\n\u001b[0;32m--> 868\u001b[0m to_drop \u001b[39m=\u001b[39m [key \u001b[39mfor\u001b[39;00m key \u001b[39min\u001b[39;00m mapping \u001b[39mif\u001b[39;00m key() \u001b[39mis\u001b[39;00m \u001b[39mNone\u001b[39;00m]\n\u001b[1;32m    869\u001b[0m \u001b[39mfor\u001b[39;00m key \u001b[39min\u001b[39;00m to_drop:\n\u001b[1;32m    870\u001b[0m     val \u001b[39m=\u001b[39m mapping\u001b[39m.\u001b[39mpop(key)\n",
      "\u001b[0;31mKeyboardInterrupt\u001b[0m: "
     ]
    }
   ],
   "source": [
    "sns.pairplot(independents)"
   ]
  },
  {
   "cell_type": "code",
   "execution_count": null,
   "id": "486f8069",
   "metadata": {},
   "outputs": [],
   "source": [
    "sns.pairplot(X)"
   ]
  },
  {
   "cell_type": "code",
   "execution_count": null,
   "id": "6ca645b8",
   "metadata": {},
   "outputs": [],
   "source": [
    "colorblind1 = sns.set_palette(sns.color_palette(colors))\n",
    "\n",
    "#Create a matrix of panels sharing the same y axis (total claim amount)\n",
    "\n",
    "fig, axs = plt.subplots(10, 2, figsize=(30, 50)) # width and height \n",
    "axs = axs.flatten()\n",
    "fig.subplots_adjust(hspace=.2, wspace=.2) # ensure that the plots do not overlap\n",
    "\n",
    "\n",
    "for i, column in enumerate(X.columns):\n",
    "    sns.histplot(data=X, x=column, palette=sns.color_palette(\"colorblind\"), bins=25, element='step', stat='density', alpha=0.7, ax=axs[i]) # use element='step' to create a histogram-like plot, and stat='density' to normalize the y-axis\n",
    "    axs[i].set_title(column)\n",
    "\n",
    "plt.show()\n"
   ]
  },
  {
   "attachments": {},
   "cell_type": "markdown",
   "id": "7ad0a76c",
   "metadata": {},
   "source": [
    "## Training the data"
   ]
  },
  {
   "attachments": {},
   "cell_type": "markdown",
   "id": "bfb31be4",
   "metadata": {},
   "source": [
    "**test_size** =  proportion of the data that should be used for testing. In this case, 30% of the data will be used for testing, while the remaining 70% will be used for training.\n",
    "\n",
    "**random_state** = is a parameter that sets the random seed, which ensures that the same random split is generated each time the code is run. This is useful for reproducibility.\n",
    "\n",
    "The function returns four objects:\n",
    "\n",
    "#### Indepedent variables\n",
    "\n",
    "*X_train* is a subset of the input dataset containing the independent variables for the training set.\n",
    "\n",
    "\n",
    "*X_test* is a subset of the input dataset containing the independent variables for the testing set.\n",
    "\n",
    "#### Dependent variables\n",
    "\n",
    "*y_train* is a subset of the target variable corresponding to the observations in X_train.\n",
    "\n",
    "*y_test* is a subset of the target variable corresponding to the observations in X_test.\n",
    "\n",
    "By splitting the dataset into training and testing sets, we can train a machine learning model on the training set and evaluate its performance on the testing set. This helps to assess the generalization ability of the model, i.e. how well it can predict on new, unseen data."
   ]
  },
  {
   "cell_type": "code",
   "execution_count": 11,
   "id": "429dfcc3",
   "metadata": {},
   "outputs": [
    {
     "name": "stdout",
     "output_type": "stream",
     "text": [
      "Number CC acceptance X_train dataset:  (14380, 20)\n",
      "Number CC acceptance y_train dataset:  (14380, 1)\n",
      "Number CC acceptance X_test dataset:  (3596, 20)\n",
      "Number CC acceptance y_test dataset:  (3596, 1)\n"
     ]
    }
   ],
   "source": [
    "from sklearn.model_selection import train_test_split\n",
    "\n",
    "# Split the data into training and testing sets\n",
    "X_train, X_test, y_train, y_test = train_test_split(X, y, test_size=0.2, random_state=42)\n",
    "\n",
    "# describes info about train and test set\n",
    "\n",
    "print(\"Number CC acceptance X_train dataset: \", X_train.shape)\n",
    "print(\"Number CC acceptance y_train dataset: \", y_train.shape)\n",
    "print(\"Number CC acceptance X_test dataset: \", X_test.shape)\n",
    "print(\"Number CC acceptance y_test dataset: \", y_test.shape)"
   ]
  },
  {
   "cell_type": "code",
   "execution_count": 12,
   "id": "4c5c2365",
   "metadata": {},
   "outputs": [],
   "source": [
    "from sklearn.linear_model import LogisticRegression\n",
    "\n",
    "classing = LogisticRegression(random_state=0, multi_class = 'ovr').fit(X_train, y_train)\n",
    "predictions = classing.predict(X_test)"
   ]
  },
  {
   "cell_type": "code",
   "execution_count": 13,
   "id": "738bcc7a",
   "metadata": {},
   "outputs": [
    {
     "data": {
      "text/plain": [
       "array([[3405,    0],\n",
       "       [ 191,    0]])"
      ]
     },
     "execution_count": 13,
     "metadata": {},
     "output_type": "execute_result"
    }
   ],
   "source": [
    "confusion_matrix(y_test,predictions)"
   ]
  },
  {
   "cell_type": "code",
   "execution_count": 14,
   "id": "17f98233",
   "metadata": {},
   "outputs": [
    {
     "data": {
      "text/plain": [
       "<sklearn.metrics._plot.confusion_matrix.ConfusionMatrixDisplay at 0x299584fd0>"
      ]
     },
     "execution_count": 14,
     "metadata": {},
     "output_type": "execute_result"
    },
    {
     "data": {
      "image/png": "[encoded data removed]",
      "text/plain": [
       "<Figure size 640x480 with 2 Axes>"
      ]
     },
     "metadata": {},
     "output_type": "display_data"
    }
   ],
   "source": [
    "\n",
    "confusion_matrix = metrics.confusion_matrix(y_test, predictions)\n",
    "cm_display = metrics.ConfusionMatrixDisplay(confusion_matrix = confusion_matrix, display_labels = [False, True])\n",
    "cm_display.plot(cmap=\"tab20\")\n",
    "\n"
   ]
  },
  {
   "attachments": {},
   "cell_type": "markdown",
   "id": "35278617",
   "metadata": {},
   "source": [
    "<blockquote style=\"background-color: #FEECEF; color: #155724; border-color: #FFA0FD; padding: 10px; border-radius: 5px;\">\n",
    "    \n",
    "**Interpreting the confusion matrix:**\n",
    "    \n",
    "_____________\n",
    "\n",
    "From the above confusion matrix, we can see that we were able to predict:\n",
    "\n",
    "- **3405 True Negatives (Top-Left Quadrant)**\n",
    "- O False Positives (Top-Right Quadrant)\n",
    "- 191 False Negatives (Bottom-Left Quadrant)\n",
    "- O True Positives (Bottom-Right Quadrant)\n",
    "\n",
    "This suggests that our model is heavily biased towards true negatives or the 'No', i.e, rejecting the credit card.\n",
    "_____________\n",
    "</blockquote>"
   ]
  },
  {
   "attachments": {},
   "cell_type": "markdown",
   "id": "98894fac",
   "metadata": {},
   "source": [
    "When we run our classing score function, we see that the R2 is very high:\n",
    "\n",
    "0.95"
   ]
  },
  {
   "cell_type": "code",
   "execution_count": 15,
   "id": "45989bb2",
   "metadata": {},
   "outputs": [
    {
     "data": {
      "text/plain": [
       "0.9468854282536151"
      ]
     },
     "execution_count": 15,
     "metadata": {},
     "output_type": "execute_result"
    }
   ],
   "source": [
    "classing.score(X_test,y_test)"
   ]
  },
  {
   "attachments": {},
   "cell_type": "markdown",
   "id": "7626aa1a",
   "metadata": {},
   "source": [
    "And the accuracy score is identical:\n",
    "\n",
    "0.95"
   ]
  },
  {
   "cell_type": "code",
   "execution_count": 16,
   "id": "63580c21",
   "metadata": {},
   "outputs": [
    {
     "data": {
      "text/plain": [
       "0.9468854282536151"
      ]
     },
     "execution_count": 16,
     "metadata": {},
     "output_type": "execute_result"
    }
   ],
   "source": [
    "Accuracy = metrics.accuracy_score(y_test, predictions) # same as the classing score \n",
    "Accuracy"
   ]
  },
  {
   "cell_type": "code",
   "execution_count": 17,
   "id": "108281aa",
   "metadata": {},
   "outputs": [
    {
     "name": "stdout",
     "output_type": "stream",
     "text": [
      "              precision    recall  f1-score   support\n",
      "\n",
      "           0       0.95      1.00      0.97      3405\n",
      "           1       0.00      0.00      0.00       191\n",
      "\n",
      "    accuracy                           0.95      3596\n",
      "   macro avg       0.47      0.50      0.49      3596\n",
      "weighted avg       0.90      0.95      0.92      3596\n",
      "\n"
     ]
    }
   ],
   "source": [
    "print(metrics.classification_report(y_test, predictions))"
   ]
  },
  {
   "attachments": {},
   "cell_type": "markdown",
   "id": "805a1261",
   "metadata": {},
   "source": [
    "If we run an f-1 score we can see that accuracy is identical (.95)\n",
    "\n",
    "| precision | recall | f1-score | support |\n",
    "| --------- | ------ | -------- | ------- |\n",
    "| 0.95      | 1      | 0.97     | 3405    |\n",
    "| 0         | 0      | 0        | 191     |\n",
    "| accuracy  |        | 0.95     | 3596    |"
   ]
  },
  {
   "attachments": {},
   "cell_type": "markdown",
   "id": "82484a90",
   "metadata": {},
   "source": [
    "## Resampling the data "
   ]
  }
 ],
 "metadata": {
  "kernelspec": {
   "display_name": "Python 3 (ipykernel)",
   "language": "python",
   "name": "python3"
  },
  "language_info": {
   "codemirror_mode": {
    "name": "ipython",
    "version": 3
   },
   "file_extension": ".py",
   "mimetype": "text/x-python",
   "name": "python",
   "nbconvert_exporter": "python",
   "pygments_lexer": "ipython3",
   "version": "3.11.1"
  }
 },
 "nbformat": 4,
 "nbformat_minor": 5
}
