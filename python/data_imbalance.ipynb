{
 "cells": [
  {
   "cell_type": "code",
   "execution_count": 52,
   "id": "7b312cb8",
   "metadata": {},
   "outputs": [],
   "source": [
    "import pandas as pd\n",
    "import numpy as np\n",
    "from sklearn.linear_model import LogisticRegression\n",
    "from sklearn.preprocessing import StandardScaler\n",
    "from sklearn.metrics import confusion_matrix\n",
    "import warnings\n",
    "from sklearn.metrics import cohen_kappa_score\n",
    "from matplotlib import pyplot as plt\n",
    "import seaborn as sns\n",
    "from sklearn import metrics\n",
    "\n",
    "\n",
    "from sklearn.model_selection import train_test_split\n",
    "warnings.filterwarnings('ignore')\n",
    "\n"
   ]
  },
  {
   "attachments": {},
   "cell_type": "markdown",
   "id": "0d1155f3",
   "metadata": {},
   "source": [
    "### Put presets in place"
   ]
  },
  {
   "attachments": {},
   "cell_type": "markdown",
   "id": "823d3bc3",
   "metadata": {},
   "source": [
    "#### Colorblind-friendly palette"
   ]
  },
  {
   "cell_type": "code",
   "execution_count": null,
   "id": "b977769c",
   "metadata": {},
   "outputs": [],
   "source": [
    "# Create an array with the colors you want to use\n",
    "colors = [\"#FF0B04\", \"#4374B3\",\"#999999\", \"#E69F00\", \"#56B4E9\", \"#009E73\", \"#F0E442\", \"#0072B2\", \"#D55E00\", \"#CC79A7\"]\n",
    "# Set a custom color palette for colour blind readers\n",
    "\n",
    "# Assign a name to the palette\n",
    "colorblind1 = sns.set_palette(sns.color_palette(colors)) \n"
   ]
  },
  {
   "attachments": {},
   "cell_type": "markdown",
   "id": "38331648",
   "metadata": {},
   "source": [
    "### Import Data"
   ]
  },
  {
   "attachments": {},
   "cell_type": "markdown",
   "id": "486e1df4",
   "metadata": {},
   "source": [
    "During the EDA phase, we cleaned the data and separated the dataset into two separate dataframes:\n",
    "\n",
    "X = the independent variables\n",
    "\n",
    "y = the target variable\n"
   ]
  },
  {
   "cell_type": "code",
   "execution_count": null,
   "id": "f09c08e9",
   "metadata": {},
   "outputs": [],
   "source": [
    "X = pd.read_csv(r'./../data/X.csv') # import the csv file using a relative path to the 'data' folder\n",
    "X= X.drop(columns=['Unnamed: 0']) # drop index column\n",
    "\n",
    "X.head()"
   ]
  },
  {
   "cell_type": "code",
   "execution_count": null,
   "id": "0e7530a1",
   "metadata": {},
   "outputs": [],
   "source": [
    "y = pd.read_csv(r'./../data/y.csv') # import the csv file using a relative path to the 'data' folder\n",
    "y= y.drop(columns=['Unnamed: 0']) # drop index column\n",
    "\n",
    "y.head()"
   ]
  },
  {
   "cell_type": "code",
   "execution_count": null,
   "id": "43ddc8f7",
   "metadata": {},
   "outputs": [],
   "source": []
  },
  {
   "attachments": {},
   "cell_type": "markdown",
   "id": "ce9e8d70",
   "metadata": {},
   "source": [
    "### Examine the class label imbalance"
   ]
  },
  {
   "cell_type": "code",
   "execution_count": null,
   "id": "253238c3",
   "metadata": {},
   "outputs": [],
   "source": [
    "## Count instances of the target variable \n",
    "#count frequencies\n",
    "counts = y['offer_accepted'].value_counts()\n",
    "##count and compute as percentage of total \n",
    "pct = y['offer_accepted'].value_counts(normalize=True)\n",
    "\n",
    "#concatenate results into one DataFrame\n",
    "pd.concat([counts,pct], axis=1, keys=['n', '%'])"
   ]
  },
  {
   "attachments": {},
   "cell_type": "markdown",
   "id": "d14789c2",
   "metadata": {},
   "source": [
    "Convert the 'Yes' and 'no' values to '1' and '0'"
   ]
  },
  {
   "cell_type": "code",
   "execution_count": null,
   "id": "6be72150",
   "metadata": {},
   "outputs": [],
   "source": [
    "y['offer_accepted'] = y['offer_accepted'].replace({'No': 0, 'Yes': 1})"
   ]
  },
  {
   "cell_type": "code",
   "execution_count": null,
   "id": "7331f129",
   "metadata": {},
   "outputs": [],
   "source": [
    "neg, pos = np.bincount(y['offer_accepted'])\n",
    "total = neg + pos\n",
    "\n",
    "print('Examples:\\n    Total: {}\\n    Customers who accepted credit card offer: {} ({:.2f}% of total customer base)\\n'.format(\n",
    "    total, pos, 100 * pos / total))"
   ]
  },
  {
   "attachments": {},
   "cell_type": "markdown",
   "id": "a4881f46",
   "metadata": {},
   "source": [
    "Before applying our machine learning model to improve the balance between 'Yes' and 'No', we need to scale the numerical variables. \n",
    "\n",
    "We'll be using standard scaler to remove the mean and unit variance."
   ]
  },
  {
   "cell_type": "code",
   "execution_count": null,
   "id": "82fc3b1c",
   "metadata": {},
   "outputs": [],
   "source": [
    "independents = X.copy() # make a separate df to preserve the column headers\n",
    "\n",
    "transformer = StandardScaler().fit(independents)\n",
    "standard_x = transformer.transform(independents)\n",
    "X = pd.DataFrame(standard_x)\n",
    "X.columns = independents.columns # put the column headers back\n",
    "X.head()"
   ]
  },
  {
   "attachments": {},
   "cell_type": "markdown",
   "id": "b9504266",
   "metadata": {},
   "source": [
    "#### Optional:\n",
    "\n",
    "We can plot the data before and after to see if there are any differences."
   ]
  },
  {
   "cell_type": "code",
   "execution_count": null,
   "id": "482a146a",
   "metadata": {},
   "outputs": [],
   "source": [
    "sns.pairplot(independents)"
   ]
  },
  {
   "cell_type": "code",
   "execution_count": null,
   "id": "486f8069",
   "metadata": {},
   "outputs": [],
   "source": [
    "sns.pairplot(X)"
   ]
  },
  {
   "cell_type": "code",
   "execution_count": null,
   "id": "6ca645b8",
   "metadata": {},
   "outputs": [],
   "source": [
    "colorblind1 = sns.set_palette(sns.color_palette(colors))\n",
    "\n",
    "#Create a matrix of panels sharing the same y axis (total claim amount)\n",
    "\n",
    "fig, axs = plt.subplots(10, 2, figsize=(30, 50)) # width and height \n",
    "axs = axs.flatten()\n",
    "fig.subplots_adjust(hspace=.2, wspace=.2) # ensure that the plots do not overlap\n",
    "\n",
    "\n",
    "for i, column in enumerate(X.columns):\n",
    "    sns.histplot(data=X, x=column, palette=sns.color_palette(\"colorblind\"), bins=25, element='step', stat='density', alpha=0.7, ax=axs[i]) # use element='step' to create a histogram-like plot, and stat='density' to normalize the y-axis\n",
    "    axs[i].set_title(column)\n",
    "\n",
    "plt.show()\n"
   ]
  },
  {
   "attachments": {},
   "cell_type": "markdown",
   "id": "7ad0a76c",
   "metadata": {},
   "source": [
    "## Training the data"
   ]
  },
  {
   "attachments": {},
   "cell_type": "markdown",
   "id": "bfb31be4",
   "metadata": {},
   "source": [
    "**test_size** =  proportion of the data that should be used for testing. In this case, 30% of the data will be used for testing, while the remaining 70% will be used for training.\n",
    "\n",
    "**random_state** = is a parameter that sets the random seed, which ensures that the same random split is generated each time the code is run. This is useful for reproducibility.\n",
    "\n",
    "The function returns four objects:\n",
    "\n",
    "#### Indepedent variables\n",
    "\n",
    "*X_train* is a subset of the input dataset containing the independent variables for the training set.\n",
    "\n",
    "\n",
    "*X_test* is a subset of the input dataset containing the independent variables for the testing set.\n",
    "\n",
    "#### Dependent variables\n",
    "\n",
    "*y_train* is a subset of the target variable corresponding to the observations in X_train.\n",
    "\n",
    "*y_test* is a subset of the target variable corresponding to the observations in X_test.\n",
    "\n",
    "By splitting the dataset into training and testing sets, we can train a machine learning model on the training set and evaluate its performance on the testing set. This helps to assess the generalization ability of the model, i.e. how well it can predict on new, unseen data."
   ]
  },
  {
   "cell_type": "code",
   "execution_count": null,
   "id": "429dfcc3",
   "metadata": {},
   "outputs": [],
   "source": [
    "from sklearn.model_selection import train_test_split\n",
    "\n",
    "# Split the data into training and testing sets\n",
    "X_train, X_test, y_train, y_test = train_test_split(X, y, test_size=0.2, random_state=42)\n",
    "\n",
    "len(X_test)\n"
   ]
  },
  {
   "cell_type": "code",
   "execution_count": null,
   "id": "4c5c2365",
   "metadata": {},
   "outputs": [],
   "source": [
    "from sklearn.linear_model import LogisticRegression\n",
    "\n",
    "classing = LogisticRegression(random_state=0, multi_class = 'ovr').fit(X_train, y_train)\n",
    "predictions = classing.predict(X_test)"
   ]
  },
  {
   "cell_type": "code",
   "execution_count": null,
   "id": "738bcc7a",
   "metadata": {},
   "outputs": [],
   "source": [
    "confusion_matrix(y_test,predictions)"
   ]
  },
  {
   "cell_type": "code",
   "execution_count": 55,
   "id": "17f98233",
   "metadata": {},
   "outputs": [
    {
     "data": {
      "text/plain": [
       "<sklearn.metrics._plot.confusion_matrix.ConfusionMatrixDisplay at 0x176e2ccd0>"
      ]
     },
     "execution_count": 55,
     "metadata": {},
     "output_type": "execute_result"
    },
    {
     "data": {
      "image/png": "[encoded data removed]",
      "text/plain": [
       "<Figure size 640x480 with 2 Axes>"
      ]
     },
     "metadata": {},
     "output_type": "display_data"
    }
   ],
   "source": [
    "\n",
    "confusion_matrix = metrics.confusion_matrix(y_test, predictions)\n",
    "cm_display = metrics.ConfusionMatrixDisplay(confusion_matrix = confusion_matrix, display_labels = [False, True])\n",
    "cm_display.plot(cmap=\"tab20\")\n",
    "\n"
   ]
  },
  {
   "attachments": {},
   "cell_type": "markdown",
   "id": "35278617",
   "metadata": {},
   "source": [
    "<blockquote style=\"background-color: #FEECEF; color: #155724; border-color: #FFA0FD; padding: 10px; border-radius: 5px;\">\n",
    "    \n",
    "**Interpreting the confusion matrix:**\n",
    "    \n",
    "_____________\n",
    "\n",
    "From the above confusion matrix, we can see that we were able to predict:\n",
    "\n",
    "- **3405 True Negatives (Top-Left Quadrant)**\n",
    "- O False Positives (Top-Right Quadrant)\n",
    "- 191 False Negatives (Bottom-Left Quadrant)\n",
    "- O True Positives (Bottom-Right Quadrant)\n",
    "\n",
    "This suggests that our model is heavily biased towards true negatives or the 'No', i.e, rejecting the credit card.\n",
    "\n",
    "\n",
    "    \n",
    "_____________\n",
    "</blockquote>"
   ]
  }
 ],
 "metadata": {
  "kernelspec": {
   "display_name": "Python 3 (ipykernel)",
   "language": "python",
   "name": "python3"
  },
  "language_info": {
   "codemirror_mode": {
    "name": "ipython",
    "version": 3
   },
   "file_extension": ".py",
   "mimetype": "text/x-python",
   "name": "python",
   "nbconvert_exporter": "python",
   "pygments_lexer": "ipython3",
   "version": "3.11.1"
  }
 },
 "nbformat": 4,
 "nbformat_minor": 5
}
